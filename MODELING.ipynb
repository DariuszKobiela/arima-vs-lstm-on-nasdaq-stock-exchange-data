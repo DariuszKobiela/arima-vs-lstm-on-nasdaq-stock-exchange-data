{
 "cells": [
  {
   "cell_type": "code",
   "execution_count": 89,
   "id": "2fd546c5",
   "metadata": {},
   "outputs": [
    {
     "name": "stdout",
     "output_type": "stream",
     "text": [
      "Model: \"sequential_1\"\n",
      "_________________________________________________________________\n",
      "Layer (type)                 Output Shape              Param #   \n",
      "=================================================================\n",
      "gru_2 (GRU)                  (None, 90, 30)            2880      \n",
      "_________________________________________________________________\n",
      "gru_3 (GRU)                  (None, 2)                 198       \n",
      "=================================================================\n",
      "Total params: 3,078\n",
      "Trainable params: 3,078\n",
      "Non-trainable params: 0\n",
      "_________________________________________________________________\n",
      "None\n"
     ]
    }
   ],
   "source": [
    "from tensorflow.keras.models import Sequential\n",
    "from tensorflow.keras.layers import LSTM, GRU, Dense, Dropout\n",
    "\n",
    "model = Sequential() \n",
    "optimizer='adam'\n",
    "loss='mse'\n",
    "N_STEPS = 90\n",
    "N_FEATURES = 1\n",
    "\n",
    "# jak OUTPUT AVERAGING TRUE TO TRZEBA POKOMBINOWAĆ\n",
    "#OUTPUT_SIZE = OUTPUT_WINDOW_SIZE if not OUTPUT_AVERAGING else 1\n",
    "\n",
    "#X =  X.reshape((X.shape[0], X.shape[1], N_FEATURES))\n",
    "\n",
    "\n",
    "# model.add(LSTM(50, input_shape=(N_STEPS, N_FEATURES), return_sequences=True))\n",
    "# model.add(LSTM(30))\n",
    "# model.add(Dense(OUTPUT_SIZE))\n",
    "\n",
    "model.add(GRU(30, input_shape=(N_STEPS, N_FEATURES), return_sequences=True))\n",
    "# model.add(GRU(30, return_sequences=True))\n",
    "model.add(GRU(2))\n",
    "\n",
    "model.compile(optimizer=optimizer, loss=loss) \n",
    "\n",
    "print(model.summary())"
   ]
  },
  {
   "cell_type": "code",
   "execution_count": 98,
   "id": "1d935016",
   "metadata": {},
   "outputs": [
    {
     "name": "stdout",
     "output_type": "stream",
     "text": [
      "shape: (None, None, 1))\n",
      "shape: (None, None, 30))\n"
     ]
    }
   ],
   "source": [
    "for l in model.layers:\n",
    "    print(f\"shape: {l.input_spec[0].shape})\") #axes[-1]\n",
    "    #print(\"kernel\", l.input_spec.axes[-1])\n",
    "    #print(\"batch\", l.kernel.shape)"
   ]
  },
  {
   "cell_type": "code",
   "execution_count": 90,
   "id": "8e6d963a",
   "metadata": {},
   "outputs": [
    {
     "name": "stdout",
     "output_type": "stream",
     "text": [
      "shape [None, 30]\n",
      "ndim 2\n",
      "shape [None, 2]\n",
      "ndim 2\n"
     ]
    }
   ],
   "source": [
    "for l in model.layers:\n",
    "    print(\"shape\", l.state_spec[0].shape)\n",
    "    print(\"ndim\", l.state_spec[0].ndim)"
   ]
  },
  {
   "cell_type": "code",
   "execution_count": 43,
   "id": "31850e86",
   "metadata": {},
   "outputs": [
    {
     "ename": "AttributeError",
     "evalue": "'GRU' object has no attribute '_build_input_shape'",
     "output_type": "error",
     "traceback": [
      "\u001b[1;31m---------------------------------------------------------------------------\u001b[0m",
      "\u001b[1;31mAttributeError\u001b[0m                            Traceback (most recent call last)",
      "\u001b[1;32m<ipython-input-43-d2aca6e85daf>\u001b[0m in \u001b[0;36m<module>\u001b[1;34m\u001b[0m\n\u001b[1;32m----> 1\u001b[1;33m \u001b[0mmodel\u001b[0m\u001b[1;33m.\u001b[0m\u001b[0mlayers\u001b[0m\u001b[1;33m[\u001b[0m\u001b[1;36m0\u001b[0m\u001b[1;33m]\u001b[0m\u001b[1;33m.\u001b[0m\u001b[0m_build_input_shape\u001b[0m\u001b[1;33m\u001b[0m\u001b[1;33m\u001b[0m\u001b[0m\n\u001b[0m",
      "\u001b[1;31mAttributeError\u001b[0m: 'GRU' object has no attribute '_build_input_shape'"
     ]
    }
   ],
   "source": [
    "model.layers[0]._build_input_shape"
   ]
  },
  {
   "cell_type": "code",
   "execution_count": 42,
   "id": "a3c2933a",
   "metadata": {},
   "outputs": [
    {
     "data": {
      "text/plain": [
       "{'_obj_reference_counts_dict': <tensorflow.python.training.tracking.object_identity.ObjectIdentityDictionary at 0x1b569207cf8>,\n",
       " 'zero_output_for_mask': False,\n",
       " '_self_setattr_tracking': True,\n",
       " '_trainable': True,\n",
       " '_name': 'gru',\n",
       " '_trainable_weights': [],\n",
       " '_non_trainable_weights': [],\n",
       " '_updates': [],\n",
       " '_callable_losses': [],\n",
       " '_losses': [],\n",
       " '_eager_losses': [],\n",
       " '_metrics': [],\n",
       " '_metrics_tensors': {},\n",
       " '_mixed_precision_policy': <tensorflow.python.keras.mixed_precision.experimental.policy.Policy at 0x1b5617075f8>,\n",
       " '_call_convention': <CallConvention.EXPLICIT_INPUTS_ARGUMENT: 1>,\n",
       " '_layers': [<tensorflow.python.keras.layers.recurrent.GRUCell at 0x1b5692077b8>,\n",
       "  ListWrapper([InputSpec(shape=(None, None, 1), ndim=3)]),\n",
       "  ListWrapper([InputSpec(shape=[None, 30], ndim=2)])],\n",
       " '_inbound_nodes': [<tensorflow.python.keras.engine.base_layer.Node at 0x1b5694c3be0>],\n",
       " '_outbound_nodes': [<tensorflow.python.keras.engine.base_layer.Node at 0x1b569783c50>],\n",
       " '_expects_training_arg': True,\n",
       " '_dynamic': False,\n",
       " '_batch_input_shape': (None, 90, 1),\n",
       " '_initial_weights': None,\n",
       " '_self_unconditional_checkpoint_dependencies': [TrackableReference(name='cell', ref=<tensorflow.python.keras.layers.recurrent.GRUCell object at 0x000001B5692077B8>),\n",
       "  TrackableReference(name='input_spec', ref=ListWrapper([InputSpec(shape=(None, None, 1), ndim=3)])),\n",
       "  TrackableReference(name='state_spec', ref=ListWrapper([InputSpec(shape=[None, 30], ndim=2)]))],\n",
       " '_self_unconditional_dependency_names': {'cell': <tensorflow.python.keras.layers.recurrent.GRUCell at 0x1b5692077b8>,\n",
       "  'input_spec': ListWrapper([InputSpec(shape=(None, None, 1), ndim=3)]),\n",
       "  'state_spec': ListWrapper([InputSpec(shape=[None, 30], ndim=2)])},\n",
       " '_self_unconditional_deferred_dependencies': {},\n",
       " '_self_update_uid': -1,\n",
       " '_self_name_based_restores': set(),\n",
       " 'cell': <tensorflow.python.keras.layers.recurrent.GRUCell at 0x1b5692077b8>,\n",
       " 'return_sequences': True,\n",
       " 'return_state': False,\n",
       " 'go_backwards': False,\n",
       " 'stateful': False,\n",
       " 'unroll': False,\n",
       " 'time_major': False,\n",
       " 'supports_masking': True,\n",
       " '_states': None,\n",
       " 'constants_spec': None,\n",
       " '_num_constants': None,\n",
       " '_activity_regularizer': None,\n",
       " 'input_spec': ListWrapper([InputSpec(shape=(None, None, 1), ndim=3)]),\n",
       " '_dtype': 'float32',\n",
       " 'state_spec': ListWrapper([InputSpec(shape=[None, 30], ndim=2)]),\n",
       " 'built': True}"
      ]
     },
     "execution_count": 42,
     "metadata": {},
     "output_type": "execute_result"
    }
   ],
   "source": [
    "model.layers[0].__dict__"
   ]
  },
  {
   "cell_type": "code",
   "execution_count": 37,
   "id": "a4e89e41",
   "metadata": {
    "scrolled": false
   },
   "outputs": [
    {
     "data": {
      "text/plain": [
       "{'_self_setattr_tracking': True,\n",
       " '_name': 'sequential',\n",
       " '_activity_regularizer': None,\n",
       " '_trainable': True,\n",
       " '_dynamic': False,\n",
       " '_is_compiled': True,\n",
       " '_expects_training_arg': True,\n",
       " '_layers': [<tensorflow.python.keras.engine.input_layer.InputLayer at 0x1b569207e10>,\n",
       "  <tensorflow.python.keras.layers.recurrent.GRU at 0x1b5692076d8>,\n",
       "  <tensorflow.python.keras.layers.recurrent.GRU at 0x1b561a28860>],\n",
       " '_compute_output_and_mask_jointly': True,\n",
       " 'supports_masking': False,\n",
       " 'optimizer': <tensorflow.python.keras.optimizer_v2.adam.Adam at 0x1b561b5e978>,\n",
       " '_trainable_weights': [],\n",
       " '_non_trainable_weights': [],\n",
       " '_updates': [],\n",
       " '_losses': [],\n",
       " '_eager_losses': [],\n",
       " '_callable_losses': [],\n",
       " '_metrics': [],\n",
       " '_metrics_tensors': {},\n",
       " '_scope': None,\n",
       " '_reuse': None,\n",
       " '_graph': <tensorflow.python.framework.ops.Graph at 0x1b55c9855f8>,\n",
       " '_dtype': None,\n",
       " '_outbound_nodes': [],\n",
       " '_inbound_nodes': [<tensorflow.python.keras.engine.base_layer.Node at 0x1b5694c3cc0>],\n",
       " '_trackable_saver': <tensorflow.python.training.tracking.util.TrackableSaver at 0x1b5695abf28>,\n",
       " '_mixed_precision_policy': <tensorflow.python.keras.mixed_precision.experimental.policy.Policy at 0x1b5694730b8>,\n",
       " '_is_graph_network': True,\n",
       " '_call_convention': <CallConvention.EXPLICIT_INPUTS_ARGUMENT: 1>,\n",
       " 'outputs': [<tf.Tensor 'gru_1/strided_slice_12:0' shape=(?, 2) dtype=float32>],\n",
       " 'inputs': [<tf.Tensor 'gru_input:0' shape=(?, 90, 1) dtype=float32>],\n",
       " 'built': True,\n",
       " '_distribution_strategy': None,\n",
       " '_compile_distribution': False,\n",
       " '_run_eagerly': None,\n",
       " '_ckpt_saved_epoch': None,\n",
       " '_build_input_shape': None,\n",
       " '_layer_call_argspecs': {<tensorflow.python.keras.engine.input_layer.InputLayer at 0x1b569207e10>: FullArgSpec(args=['self', 'inputs'], varargs=None, varkw='kwargs', defaults=None, kwonlyargs=[], kwonlydefaults=None, annotations={}),\n",
       "  <tensorflow.python.keras.layers.recurrent.GRU at 0x1b5692076d8>: FullArgSpec(args=['self', 'inputs', 'mask', 'training', 'initial_state'], varargs=None, varkw=None, defaults=(None, None, None), kwonlyargs=[], kwonlydefaults=None, annotations={}),\n",
       "  <tensorflow.python.keras.layers.recurrent.GRU at 0x1b561a28860>: FullArgSpec(args=['self', 'inputs', 'mask', 'training', 'initial_state'], varargs=None, varkw=None, defaults=(None, None, None), kwonlyargs=[], kwonlydefaults=None, annotations={})},\n",
       " '_nested_outputs': <tf.Tensor 'gru_1/strided_slice_12:0' shape=(?, 2) dtype=float32>,\n",
       " '_nested_inputs': <tf.Tensor 'gru_input:0' shape=(?, 90, 1) dtype=float32>,\n",
       " '_input_layers': [<tensorflow.python.keras.engine.input_layer.InputLayer at 0x1b569207e10>],\n",
       " '_output_layers': [<tensorflow.python.keras.layers.recurrent.GRU at 0x1b561a28860>],\n",
       " '_input_coordinates': [(<tensorflow.python.keras.engine.input_layer.InputLayer at 0x1b569207e10>,\n",
       "   0,\n",
       "   0)],\n",
       " '_output_coordinates': [(<tensorflow.python.keras.layers.recurrent.GRU at 0x1b561a28860>,\n",
       "   0,\n",
       "   0)],\n",
       " '_output_mask_cache': {},\n",
       " '_output_tensor_cache': {},\n",
       " '_output_shape_cache': {},\n",
       " '_network_nodes': {'gru_1_ib-0', 'gru_ib-0', 'gru_input_ib-0'},\n",
       " '_nodes_by_depth': defaultdict(list,\n",
       "             {0: [<tensorflow.python.keras.engine.base_layer.Node at 0x1b569783c50>],\n",
       "              1: [<tensorflow.python.keras.engine.base_layer.Node at 0x1b5694c3be0>],\n",
       "              2: [<tensorflow.python.keras.engine.base_layer.Node at 0x1b569207f60>]}),\n",
       " '_layers_by_depth': defaultdict(list,\n",
       "             {0: [<tensorflow.python.keras.layers.recurrent.GRU at 0x1b561a28860>],\n",
       "              1: [<tensorflow.python.keras.layers.recurrent.GRU at 0x1b5692076d8>],\n",
       "              2: [<tensorflow.python.keras.engine.input_layer.InputLayer at 0x1b569207e10>]}),\n",
       " '_self_unconditional_checkpoint_dependencies': [TrackableReference(name='layer-0', ref=<tensorflow.python.keras.engine.input_layer.InputLayer object at 0x000001B569207E10>),\n",
       "  TrackableReference(name='layer_with_weights-0', ref=<tensorflow.python.keras.layers.recurrent.GRU object at 0x000001B5692076D8>),\n",
       "  TrackableReference(name='layer-1', ref=<tensorflow.python.keras.layers.recurrent.GRU object at 0x000001B5692076D8>),\n",
       "  TrackableReference(name='layer_with_weights-1', ref=<tensorflow.python.keras.layers.recurrent.GRU object at 0x000001B561A28860>),\n",
       "  TrackableReference(name='layer-2', ref=<tensorflow.python.keras.layers.recurrent.GRU object at 0x000001B561A28860>),\n",
       "  TrackableReference(name='optimizer', ref=<tensorflow.python.keras.optimizer_v2.adam.Adam object at 0x000001B561B5E978>)],\n",
       " '_self_unconditional_dependency_names': {'layer-0': <tensorflow.python.keras.engine.input_layer.InputLayer at 0x1b569207e10>,\n",
       "  'layer_with_weights-0': <tensorflow.python.keras.layers.recurrent.GRU at 0x1b5692076d8>,\n",
       "  'layer-1': <tensorflow.python.keras.layers.recurrent.GRU at 0x1b5692076d8>,\n",
       "  'layer_with_weights-1': <tensorflow.python.keras.layers.recurrent.GRU at 0x1b561a28860>,\n",
       "  'layer-2': <tensorflow.python.keras.layers.recurrent.GRU at 0x1b561a28860>,\n",
       "  'optimizer': <tensorflow.python.keras.optimizer_v2.adam.Adam at 0x1b561b5e978>},\n",
       " '_self_unconditional_deferred_dependencies': {},\n",
       " '_self_update_uid': -1,\n",
       " '_self_name_based_restores': set(),\n",
       " 'output_names': ['gru_1'],\n",
       " 'input_names': ['gru_input'],\n",
       " '_feed_input_names': ['gru_input'],\n",
       " '_feed_inputs': [<tf.Tensor 'gru_input:0' shape=(?, 90, 1) dtype=float32>],\n",
       " '_feed_input_shapes': [(None, 90, 1)],\n",
       " '_cloning': False,\n",
       " 'loss': 'mse',\n",
       " 'loss_weights': None,\n",
       " 'sample_weight_mode': None,\n",
       " '_compile_metrics': [],\n",
       " '_compile_weighted_metrics': None,\n",
       " '_training_endpoints': [<tensorflow.python.keras.engine.training._TrainingEndpoint at 0x1b5696a3978>],\n",
       " '_distributed_model_cache': {},\n",
       " '_distributed_function_cache': {},\n",
       " '_compile_metrics_names': ['loss'],\n",
       " '_compile_metric_functions': [],\n",
       " '_compile_metrics_tensors': {},\n",
       " 'loss_functions': [<tensorflow.python.keras.losses.LossFunctionWrapper at 0x1b5694734e0>],\n",
       " '_per_output_metrics': [OrderedDict()],\n",
       " '_per_output_weighted_metrics': [OrderedDict()],\n",
       " 'total_loss': <tf.Tensor 'loss_2/mul:0' shape=() dtype=float32>,\n",
       " '_function_kwargs': {},\n",
       " 'train_function': None,\n",
       " 'test_function': None,\n",
       " 'predict_function': None,\n",
       " '_collected_trainable_weights': [<tf.Variable 'gru/kernel:0' shape=(1, 90) dtype=float32>,\n",
       "  <tf.Variable 'gru/recurrent_kernel:0' shape=(30, 90) dtype=float32>,\n",
       "  <tf.Variable 'gru/bias:0' shape=(90,) dtype=float32>,\n",
       "  <tf.Variable 'gru_1/kernel:0' shape=(30, 6) dtype=float32>,\n",
       "  <tf.Variable 'gru_1/recurrent_kernel:0' shape=(2, 6) dtype=float32>,\n",
       "  <tf.Variable 'gru_1/bias:0' shape=(6,) dtype=float32>]}"
      ]
     },
     "execution_count": 37,
     "metadata": {},
     "output_type": "execute_result"
    }
   ],
   "source": [
    "model.__dict__"
   ]
  },
  {
   "cell_type": "code",
   "execution_count": null,
   "id": "a339103b",
   "metadata": {},
   "outputs": [],
   "source": []
  },
  {
   "cell_type": "code",
   "execution_count": null,
   "id": "961d8eca",
   "metadata": {},
   "outputs": [],
   "source": []
  },
  {
   "cell_type": "code",
   "execution_count": 21,
   "id": "680c5fc8",
   "metadata": {},
   "outputs": [],
   "source": [
    "string='../models_results/LSTM/Experiment_0_use_log_LSTM_input_window_size_90_output_window_size_30_freq_30_n_steps_90_output_size_30_use_log_True_architecture_GRU+Dense_optimizer_Adam_experiment_results_2021-11-20_21-16.csv'"
   ]
  },
  {
   "cell_type": "code",
   "execution_count": 22,
   "id": "f34cfb5e",
   "metadata": {},
   "outputs": [
    {
     "data": {
      "text/plain": [
       "216"
      ]
     },
     "execution_count": 22,
     "metadata": {},
     "output_type": "execute_result"
    }
   ],
   "source": [
    "len(string)"
   ]
  },
  {
   "cell_type": "code",
   "execution_count": 64,
   "id": "e954a4be",
   "metadata": {
    "scrolled": false
   },
   "outputs": [
    {
     "name": "stdout",
     "output_type": "stream",
     "text": [
      "Train on 8 samples, validate on 2 samples\n",
      "Epoch 1/5\n",
      " - 1s - loss: 0.2684 - mse: 0.2684 - mae: 0.4617 - mape: 102.5998 - cosine: -1.0000e+00 - val_loss: 0.9070 - val_mse: 0.9070 - val_mae: 0.9510 - val_mape: 100.1044 - val_cosine: -1.0000e+00\n",
      "Epoch 2/5\n",
      " - 0s - loss: 0.2527 - mse: 0.2527 - mae: 0.4463 - mape: 98.2372 - cosine: 1.0000 - val_loss: 0.8624 - val_mse: 0.8624 - val_mae: 0.9273 - val_mape: 97.6061 - val_cosine: 1.0000\n",
      "Epoch 3/5\n",
      " - 0s - loss: 0.2374 - mse: 0.2374 - mae: 0.4309 - mape: 93.8701 - cosine: 1.0000 - val_loss: 0.8188 - val_mse: 0.8188 - val_mae: 0.9036 - val_mape: 95.1067 - val_cosine: 1.0000\n",
      "Epoch 4/5\n",
      " - 0s - loss: 0.2226 - mse: 0.2226 - mae: 0.4154 - mape: 89.5011 - cosine: 1.0000 - val_loss: 0.7765 - val_mse: 0.7765 - val_mae: 0.8799 - val_mape: 92.6077 - val_cosine: 1.0000\n",
      "Epoch 5/5\n",
      " - 0s - loss: 0.2083 - mse: 0.2083 - mae: 0.4000 - mape: 85.1335 - cosine: 1.0000 - val_loss: 0.7352 - val_mse: 0.7352 - val_mae: 0.8562 - val_mape: 90.1109 - val_cosine: 1.0000\n"
     ]
    },
    {
     "data": {
      "image/png": "[encoded data removed]",
      "text/plain": [
       "<Figure size 432x288 with 1 Axes>"
      ]
     },
     "metadata": {
      "needs_background": "light"
     },
     "output_type": "display_data"
    }
   ],
   "source": [
    "from numpy import array\n",
    "from keras.models import Sequential\n",
    "from keras.layers import Dense, LSTM\n",
    "from matplotlib import pyplot\n",
    "# prepare sequence\n",
    "X = array([0.1, 0.2, 0.3, 0.4, 0.5, 0.6, 0.7, 0.8, 0.9, 1.0])\n",
    "# create model\n",
    "model = Sequential()\n",
    "model.add(Dense(10, input_dim=1))\n",
    "model.add(Dense(5))\n",
    "model.add(Dense(1))\n",
    "model.compile(loss='mse', optimizer='adam', metrics=['mse', 'mae', 'mape', 'cosine'])\n",
    "# train model\n",
    "history = model.fit(X, X, epochs=5, validation_split=0.2, batch_size=len(X), verbose=2)\n",
    "# plot metrics\n",
    "pyplot.plot(history.history['mse'])\n",
    "pyplot.plot(history.history['mae'])\n",
    "pyplot.plot(history.history['mape'])\n",
    "pyplot.plot(history.history['cosine'])\n",
    "# pyplot.plot(history.history['mean_squared_error'])\n",
    "# pyplot.plot(history.history['mean_absolute_error'])\n",
    "# pyplot.plot(history.history['mean_absolute_percentage_error'])\n",
    "# pyplot.plot(history.history['cosine_proximity'])\n",
    "pyplot.show()"
   ]
  },
  {
   "cell_type": "code",
   "execution_count": 65,
   "id": "8afeb2a3",
   "metadata": {},
   "outputs": [
    {
     "name": "stdout",
     "output_type": "stream",
     "text": [
      "Model: \"sequential_8\"\n",
      "_________________________________________________________________\n",
      "Layer (type)                 Output Shape              Param #   \n",
      "=================================================================\n",
      "dense_13 (Dense)             (None, 10)                20        \n",
      "_________________________________________________________________\n",
      "dense_14 (Dense)             (None, 5)                 55        \n",
      "_________________________________________________________________\n",
      "dense_15 (Dense)             (None, 1)                 6         \n",
      "=================================================================\n",
      "Total params: 81\n",
      "Trainable params: 81\n",
      "Non-trainable params: 0\n",
      "_________________________________________________________________\n"
     ]
    }
   ],
   "source": [
    "model.summary()"
   ]
  },
  {
   "cell_type": "code",
   "execution_count": 71,
   "id": "29662f29",
   "metadata": {},
   "outputs": [
    {
     "data": {
      "text/plain": [
       "[<keras.layers.core.Dense at 0x1b56beda240>,\n",
       " <keras.layers.core.Dense at 0x1b5691d7390>,\n",
       " <keras.layers.core.Dense at 0x1b5691e20b8>]"
      ]
     },
     "execution_count": 71,
     "metadata": {},
     "output_type": "execute_result"
    }
   ],
   "source": [
    "model.layers"
   ]
  },
  {
   "cell_type": "code",
   "execution_count": 88,
   "id": "dcc447d7",
   "metadata": {},
   "outputs": [
    {
     "name": "stdout",
     "output_type": "stream",
     "text": [
      "shape: (None, 1)\n",
      "shape: (None, 10)\n",
      "shape: (None, 5)\n"
     ]
    }
   ],
   "source": [
    "for l in model.layers:\n",
    "    print(f\"shape: (None, {l.input_spec.axes[-1]})\")\n",
    "    #print(\"kernel\", l.input_spec.axes[-1])\n",
    "    #print(\"batch\", l.kernel.shape)\n"
   ]
  },
  {
   "cell_type": "code",
   "execution_count": 60,
   "id": "654e1708",
   "metadata": {},
   "outputs": [
    {
     "data": {
      "text/plain": [
       "{'input_spec': InputSpec(min_ndim=2, axes={-1: 1}),\n",
       " 'supports_masking': True,\n",
       " 'stateful': False,\n",
       " '_trainable_weights': [<tf.Variable 'dense_10/kernel:0' shape=(1, 2) dtype=float32>,\n",
       "  <tf.Variable 'dense_10/bias:0' shape=(2,) dtype=float32>],\n",
       " '_non_trainable_weights': [],\n",
       " '_losses': [],\n",
       " '_updates': [],\n",
       " '_per_input_losses': {},\n",
       " '_per_input_updates': {},\n",
       " '_built': True,\n",
       " '_metrics': [],\n",
       " '_inbound_nodes': [<keras.engine.base_layer.Node at 0x1b56793c048>],\n",
       " '_outbound_nodes': [<keras.engine.base_layer.Node at 0x1b5678c9a90>],\n",
       " 'name': 'dense_10',\n",
       " 'trainable': True,\n",
       " 'batch_input_shape': (None, 1),\n",
       " 'dtype': 'float32',\n",
       " '_initial_weights': None,\n",
       " 'units': 2,\n",
       " 'activation': <function keras.activations.linear(x)>,\n",
       " 'use_bias': True,\n",
       " 'kernel_initializer': <keras.initializers.VarianceScaling at 0x1b5678f82e8>,\n",
       " 'bias_initializer': <keras.initializers.Zeros at 0x1b5678f8198>,\n",
       " 'kernel_regularizer': None,\n",
       " 'bias_regularizer': None,\n",
       " 'activity_regularizer': None,\n",
       " 'kernel_constraint': None,\n",
       " 'bias_constraint': None,\n",
       " 'kernel': <tf.Variable 'dense_10/kernel:0' shape=(1, 2) dtype=float32>,\n",
       " 'bias': <tf.Variable 'dense_10/bias:0' shape=(2,) dtype=float32>}"
      ]
     },
     "execution_count": 60,
     "metadata": {},
     "output_type": "execute_result"
    }
   ],
   "source": [
    "model.layers[0].__dict__"
   ]
  },
  {
   "cell_type": "code",
   "execution_count": 57,
   "id": "64926417",
   "metadata": {},
   "outputs": [
    {
     "ename": "AttributeError",
     "evalue": "'Dense' object has no attribute 'state_spec'",
     "output_type": "error",
     "traceback": [
      "\u001b[1;31m---------------------------------------------------------------------------\u001b[0m",
      "\u001b[1;31mAttributeError\u001b[0m                            Traceback (most recent call last)",
      "\u001b[1;32m<ipython-input-57-08db062dddfd>\u001b[0m in \u001b[0;36m<module>\u001b[1;34m\u001b[0m\n\u001b[0;32m      1\u001b[0m \u001b[1;32mfor\u001b[0m \u001b[0ml\u001b[0m \u001b[1;32min\u001b[0m \u001b[0mmodel\u001b[0m\u001b[1;33m.\u001b[0m\u001b[0mlayers\u001b[0m\u001b[1;33m:\u001b[0m\u001b[1;33m\u001b[0m\u001b[1;33m\u001b[0m\u001b[0m\n\u001b[1;32m----> 2\u001b[1;33m     \u001b[0mprint\u001b[0m\u001b[1;33m(\u001b[0m\u001b[1;34m\"shape\"\u001b[0m\u001b[1;33m,\u001b[0m \u001b[0ml\u001b[0m\u001b[1;33m.\u001b[0m\u001b[0mstate_spec\u001b[0m\u001b[1;33m[\u001b[0m\u001b[1;36m0\u001b[0m\u001b[1;33m]\u001b[0m\u001b[1;33m.\u001b[0m\u001b[0mshape\u001b[0m\u001b[1;33m)\u001b[0m\u001b[1;33m\u001b[0m\u001b[1;33m\u001b[0m\u001b[0m\n\u001b[0m\u001b[0;32m      3\u001b[0m     \u001b[0mprint\u001b[0m\u001b[1;33m(\u001b[0m\u001b[1;34m\"ndim\"\u001b[0m\u001b[1;33m,\u001b[0m \u001b[0ml\u001b[0m\u001b[1;33m.\u001b[0m\u001b[0mstate_spec\u001b[0m\u001b[1;33m[\u001b[0m\u001b[1;36m0\u001b[0m\u001b[1;33m]\u001b[0m\u001b[1;33m.\u001b[0m\u001b[0mndim\u001b[0m\u001b[1;33m)\u001b[0m\u001b[1;33m\u001b[0m\u001b[1;33m\u001b[0m\u001b[0m\n",
      "\u001b[1;31mAttributeError\u001b[0m: 'Dense' object has no attribute 'state_spec'"
     ]
    }
   ],
   "source": [
    "for l in model.layers:\n",
    "    print(\"shape\", l.state_spec[0].shape)\n",
    "    print(\"ndim\", l.state_spec[0].ndim)"
   ]
  },
  {
   "cell_type": "code",
   "execution_count": 7,
   "id": "d5832838",
   "metadata": {},
   "outputs": [
    {
     "ename": "AttributeError",
     "evalue": "'Dense' object has no attribute '_build_input_shape'",
     "output_type": "error",
     "traceback": [
      "\u001b[1;31m---------------------------------------------------------------------------\u001b[0m",
      "\u001b[1;31mAttributeError\u001b[0m                            Traceback (most recent call last)",
      "\u001b[1;32m<ipython-input-7-d30aae7f0bae>\u001b[0m in \u001b[0;36m<module>\u001b[1;34m\u001b[0m\n\u001b[1;32m----> 1\u001b[1;33m \u001b[1;33m[\u001b[0m\u001b[1;33m(\u001b[0m\u001b[0ml\u001b[0m\u001b[1;33m.\u001b[0m\u001b[0mname\u001b[0m\u001b[1;33m,\u001b[0m \u001b[0ml\u001b[0m\u001b[1;33m.\u001b[0m\u001b[0m_build_input_shape\u001b[0m\u001b[1;33m.\u001b[0m\u001b[0mdims\u001b[0m\u001b[1;33m[\u001b[0m\u001b[1;36m1\u001b[0m\u001b[1;33m]\u001b[0m\u001b[1;33m.\u001b[0m\u001b[0mvalue\u001b[0m\u001b[1;33m)\u001b[0m \u001b[1;32mfor\u001b[0m \u001b[0ml\u001b[0m \u001b[1;32min\u001b[0m \u001b[0mmodel\u001b[0m\u001b[1;33m.\u001b[0m\u001b[0mlayers\u001b[0m\u001b[1;33m]\u001b[0m\u001b[1;33m\u001b[0m\u001b[1;33m\u001b[0m\u001b[0m\n\u001b[0m",
      "\u001b[1;32m<ipython-input-7-d30aae7f0bae>\u001b[0m in \u001b[0;36m<listcomp>\u001b[1;34m(.0)\u001b[0m\n\u001b[1;32m----> 1\u001b[1;33m \u001b[1;33m[\u001b[0m\u001b[1;33m(\u001b[0m\u001b[0ml\u001b[0m\u001b[1;33m.\u001b[0m\u001b[0mname\u001b[0m\u001b[1;33m,\u001b[0m \u001b[0ml\u001b[0m\u001b[1;33m.\u001b[0m\u001b[0m_build_input_shape\u001b[0m\u001b[1;33m.\u001b[0m\u001b[0mdims\u001b[0m\u001b[1;33m[\u001b[0m\u001b[1;36m1\u001b[0m\u001b[1;33m]\u001b[0m\u001b[1;33m.\u001b[0m\u001b[0mvalue\u001b[0m\u001b[1;33m)\u001b[0m \u001b[1;32mfor\u001b[0m \u001b[0ml\u001b[0m \u001b[1;32min\u001b[0m \u001b[0mmodel\u001b[0m\u001b[1;33m.\u001b[0m\u001b[0mlayers\u001b[0m\u001b[1;33m]\u001b[0m\u001b[1;33m\u001b[0m\u001b[1;33m\u001b[0m\u001b[0m\n\u001b[0m",
      "\u001b[1;31mAttributeError\u001b[0m: 'Dense' object has no attribute '_build_input_shape'"
     ]
    }
   ],
   "source": [
    "[(l.name, l._build_input_shape.dims[1].value) for l in model.layers]"
   ]
  },
  {
   "cell_type": "code",
   "execution_count": 22,
   "id": "fd4a3798",
   "metadata": {},
   "outputs": [
    {
     "name": "stdout",
     "output_type": "stream",
     "text": [
      "None\n"
     ]
    }
   ],
   "source": [
    "print(model._build_input_shape)"
   ]
  },
  {
   "cell_type": "code",
   "execution_count": 29,
   "id": "dd0552c5",
   "metadata": {},
   "outputs": [
    {
     "name": "stdout",
     "output_type": "stream",
     "text": [
      "dense_7\n"
     ]
    },
    {
     "data": {
      "text/plain": [
       "{'input_spec': InputSpec(min_ndim=2, axes={-1: 1}),\n",
       " 'supports_masking': True,\n",
       " 'stateful': False,\n",
       " '_trainable_weights': [<tf.Variable 'dense_7/kernel:0' shape=(1, 2) dtype=float32>,\n",
       "  <tf.Variable 'dense_7/bias:0' shape=(2,) dtype=float32>],\n",
       " '_non_trainable_weights': [],\n",
       " '_losses': [],\n",
       " '_updates': [],\n",
       " '_per_input_losses': {},\n",
       " '_per_input_updates': {},\n",
       " '_built': True,\n",
       " '_metrics': [],\n",
       " '_inbound_nodes': [<keras.engine.base_layer.Node at 0x1b567bcf940>],\n",
       " '_outbound_nodes': [<keras.engine.base_layer.Node at 0x1b567bed4e0>],\n",
       " 'name': 'dense_7',\n",
       " 'trainable': True,\n",
       " 'batch_input_shape': (None, 1),\n",
       " 'dtype': 'float32',\n",
       " '_initial_weights': None,\n",
       " 'units': 2,\n",
       " 'activation': <function keras.activations.linear(x)>,\n",
       " 'use_bias': True,\n",
       " 'kernel_initializer': <keras.initializers.VarianceScaling at 0x1b567bae278>,\n",
       " 'bias_initializer': <keras.initializers.Zeros at 0x1b567baea20>,\n",
       " 'kernel_regularizer': None,\n",
       " 'bias_regularizer': None,\n",
       " 'activity_regularizer': None,\n",
       " 'kernel_constraint': None,\n",
       " 'bias_constraint': None,\n",
       " 'kernel': <tf.Variable 'dense_7/kernel:0' shape=(1, 2) dtype=float32>,\n",
       " 'bias': <tf.Variable 'dense_7/bias:0' shape=(2,) dtype=float32>}"
      ]
     },
     "metadata": {},
     "output_type": "display_data"
    },
    {
     "name": "stdout",
     "output_type": "stream",
     "text": [
      "dense_8\n"
     ]
    },
    {
     "data": {
      "text/plain": [
       "{'input_spec': InputSpec(min_ndim=2, axes={-1: 2}),\n",
       " 'supports_masking': True,\n",
       " 'stateful': False,\n",
       " '_trainable_weights': [<tf.Variable 'dense_8/kernel:0' shape=(2, 1) dtype=float32>,\n",
       "  <tf.Variable 'dense_8/bias:0' shape=(1,) dtype=float32>],\n",
       " '_non_trainable_weights': [],\n",
       " '_losses': [],\n",
       " '_updates': [],\n",
       " '_per_input_losses': {},\n",
       " '_per_input_updates': {},\n",
       " '_built': True,\n",
       " '_metrics': [],\n",
       " '_inbound_nodes': [<keras.engine.base_layer.Node at 0x1b567bed4e0>],\n",
       " '_outbound_nodes': [<keras.engine.base_layer.Node at 0x1b567c07b70>],\n",
       " 'name': 'dense_8',\n",
       " 'trainable': True,\n",
       " 'dtype': 'float32',\n",
       " '_initial_weights': None,\n",
       " 'units': 1,\n",
       " 'activation': <function keras.activations.linear(x)>,\n",
       " 'use_bias': True,\n",
       " 'kernel_initializer': <keras.initializers.VarianceScaling at 0x1b567bcf748>,\n",
       " 'bias_initializer': <keras.initializers.Zeros at 0x1b567bcf390>,\n",
       " 'kernel_regularizer': None,\n",
       " 'bias_regularizer': None,\n",
       " 'activity_regularizer': None,\n",
       " 'kernel_constraint': None,\n",
       " 'bias_constraint': None,\n",
       " 'kernel': <tf.Variable 'dense_8/kernel:0' shape=(2, 1) dtype=float32>,\n",
       " 'bias': <tf.Variable 'dense_8/bias:0' shape=(1,) dtype=float32>}"
      ]
     },
     "metadata": {},
     "output_type": "display_data"
    },
    {
     "name": "stdout",
     "output_type": "stream",
     "text": [
      "dense_9\n"
     ]
    },
    {
     "data": {
      "text/plain": [
       "{'input_spec': InputSpec(min_ndim=2, axes={-1: 1}),\n",
       " 'supports_masking': True,\n",
       " 'stateful': False,\n",
       " '_trainable_weights': [<tf.Variable 'dense_9/kernel:0' shape=(1, 1) dtype=float32>,\n",
       "  <tf.Variable 'dense_9/bias:0' shape=(1,) dtype=float32>],\n",
       " '_non_trainable_weights': [],\n",
       " '_losses': [],\n",
       " '_updates': [],\n",
       " '_per_input_losses': {},\n",
       " '_per_input_updates': {},\n",
       " '_built': True,\n",
       " '_metrics': [],\n",
       " '_inbound_nodes': [<keras.engine.base_layer.Node at 0x1b567c07b70>],\n",
       " '_outbound_nodes': [],\n",
       " 'name': 'dense_9',\n",
       " 'trainable': True,\n",
       " 'dtype': 'float32',\n",
       " '_initial_weights': None,\n",
       " 'units': 1,\n",
       " 'activation': <function keras.activations.linear(x)>,\n",
       " 'use_bias': True,\n",
       " 'kernel_initializer': <keras.initializers.VarianceScaling at 0x1b567bcfa90>,\n",
       " 'bias_initializer': <keras.initializers.Zeros at 0x1b567bedcc0>,\n",
       " 'kernel_regularizer': None,\n",
       " 'bias_regularizer': None,\n",
       " 'activity_regularizer': None,\n",
       " 'kernel_constraint': None,\n",
       " 'bias_constraint': None,\n",
       " 'kernel': <tf.Variable 'dense_9/kernel:0' shape=(1, 1) dtype=float32>,\n",
       " 'bias': <tf.Variable 'dense_9/bias:0' shape=(1,) dtype=float32>}"
      ]
     },
     "metadata": {},
     "output_type": "display_data"
    }
   ],
   "source": [
    "for l in model.layers:\n",
    "    print(l.name)\n",
    "    #print(l._build_input_shape)\n",
    "    display(l.__dict__)\n",
    "    #break"
   ]
  },
  {
   "cell_type": "code",
   "execution_count": 34,
   "id": "44aa0530",
   "metadata": {},
   "outputs": [
    {
     "data": {
      "text/plain": [
       "<tf.Variable 'dense_9/kernel:0' shape=(1, 1) dtype=float32>"
      ]
     },
     "execution_count": 34,
     "metadata": {},
     "output_type": "execute_result"
    }
   ],
   "source": [
    "l.kernel"
   ]
  },
  {
   "cell_type": "code",
   "execution_count": 28,
   "id": "dd3c65a6",
   "metadata": {},
   "outputs": [
    {
     "data": {
      "text/plain": [
       "InputSpec(min_ndim=2, axes={-1: 1})"
      ]
     },
     "execution_count": 28,
     "metadata": {},
     "output_type": "execute_result"
    }
   ],
   "source": [
    "l.input_spec"
   ]
  },
  {
   "cell_type": "code",
   "execution_count": 5,
   "id": "613c6756",
   "metadata": {},
   "outputs": [
    {
     "data": {
      "text/plain": [
       "[<keras.engine.input_layer.InputLayer at 0x1b566365160>,\n",
       " <keras.layers.core.Dense at 0x1b55c985588>,\n",
       " <keras.layers.core.Dense at 0x1b5657d08d0>]"
      ]
     },
     "execution_count": 5,
     "metadata": {},
     "output_type": "execute_result"
    }
   ],
   "source": [
    "model._layers"
   ]
  },
  {
   "cell_type": "code",
   "execution_count": 6,
   "id": "605155f9",
   "metadata": {},
   "outputs": [
    {
     "data": {
      "text/plain": [
       "'sequential_1'"
      ]
     },
     "execution_count": 6,
     "metadata": {},
     "output_type": "execute_result"
    }
   ],
   "source": [
    "model.name"
   ]
  },
  {
   "cell_type": "code",
   "execution_count": 18,
   "id": "545f16c8",
   "metadata": {},
   "outputs": [
    {
     "data": {
      "text/plain": [
       "{'name': 'sequential_6',\n",
       " 'trainable': True,\n",
       " 'dtype': 'float32',\n",
       " '_is_compiled': True,\n",
       " '_expects_training_arg': False,\n",
       " '_initial_weights': None,\n",
       " 'supports_masking': False,\n",
       " 'optimizer': <keras.optimizers.Adam at 0x1b567bedb70>,\n",
       " '_trainable_weights': [],\n",
       " '_non_trainable_weights': [],\n",
       " '_updates': [],\n",
       " '_losses': [],\n",
       " '_per_input_losses': {},\n",
       " '_per_input_updates': {},\n",
       " '_metrics': [],\n",
       " '_layers': [<keras.engine.input_layer.InputLayer at 0x1b567baef98>,\n",
       "  <keras.layers.core.Dense at 0x1b567b9e240>,\n",
       "  <keras.layers.core.Dense at 0x1b567b9e198>,\n",
       "  <keras.layers.core.Dense at 0x1b567baec18>],\n",
       " '_outbound_nodes': [],\n",
       " '_inbound_nodes': [<keras.engine.base_layer.Node at 0x1b567baefd0>],\n",
       " '_is_graph_network': True,\n",
       " '_uses_inputs_arg': True,\n",
       " 'outputs': [<tf.Tensor 'dense_9/BiasAdd:0' shape=(?, 1) dtype=float32>],\n",
       " 'inputs': [<tf.Tensor 'dense_7_input:0' shape=(?, 1) dtype=float32>],\n",
       " '_built': True,\n",
       " '_build_input_shape': None,\n",
       " '_compute_previous_mask': True,\n",
       " '_input_layers': [<keras.engine.input_layer.InputLayer at 0x1b567baef98>],\n",
       " '_output_layers': [<keras.layers.core.Dense at 0x1b567baec18>],\n",
       " '_input_coordinates': [(<keras.engine.input_layer.InputLayer at 0x1b567baef98>,\n",
       "   0,\n",
       "   0)],\n",
       " '_output_coordinates': [(<keras.layers.core.Dense at 0x1b567baec18>, 0, 0)],\n",
       " '_output_mask_cache': {'1878641145896_1348246832': None},\n",
       " '_output_tensor_cache': {},\n",
       " '_output_shape_cache': {},\n",
       " '_network_nodes': {'dense_7_ib-0',\n",
       "  'dense_7_input_ib-0',\n",
       "  'dense_8_ib-0',\n",
       "  'dense_9_ib-0'},\n",
       " '_nodes_by_depth': {0: [<keras.engine.base_layer.Node at 0x1b567c07b70>],\n",
       "  1: [<keras.engine.base_layer.Node at 0x1b567bed4e0>],\n",
       "  2: [<keras.engine.base_layer.Node at 0x1b567bcf940>],\n",
       "  3: [<keras.engine.base_layer.Node at 0x1b567baeac8>]},\n",
       " '_layers_by_depth': {0: [<keras.layers.core.Dense at 0x1b567baec18>],\n",
       "  1: [<keras.layers.core.Dense at 0x1b567b9e198>],\n",
       "  2: [<keras.layers.core.Dense at 0x1b567b9e240>],\n",
       "  3: [<keras.engine.input_layer.InputLayer at 0x1b567baef98>]},\n",
       " 'input_names': ['dense_7_input'],\n",
       " 'output_names': ['dense_9'],\n",
       " '_feed_input_names': ['dense_7_input'],\n",
       " '_feed_inputs': [<tf.Tensor 'dense_7_input:0' shape=(?, 1) dtype=float32>],\n",
       " '_feed_input_shapes': [(None, 1)],\n",
       " 'loss': 'mse',\n",
       " '_compile_metrics': ['mse', 'mae', 'mape', 'cosine'],\n",
       " 'loss_weights': None,\n",
       " 'sample_weight_mode': None,\n",
       " '_compile_weighted_metrics': None,\n",
       " '_compile_metric_functions': [<keras.metrics.MeanMetricWrapper at 0x1b567c1b6d8>,\n",
       "  <keras.metrics.MeanMetricWrapper at 0x1b567c1bac8>,\n",
       "  <keras.metrics.MeanMetricWrapper at 0x1b567c1bc50>,\n",
       "  <keras.metrics.MeanMetricWrapper at 0x1b567c1bda0>],\n",
       " '_output_loss_metrics': None,\n",
       " 'loss_functions': [<keras.losses.LossFunctionWrapper at 0x1b567bcf240>],\n",
       " '_feed_outputs': [<tf.Tensor 'dense_9/BiasAdd:0' shape=(?, 1) dtype=float32>],\n",
       " '_feed_output_names': ['dense_9'],\n",
       " '_feed_output_shapes': [(None, 1)],\n",
       " '_feed_loss_fns': [<keras.losses.LossFunctionWrapper at 0x1b567bcf240>],\n",
       " 'skip_target_indices': [],\n",
       " 'loss_weights_list': [1.0],\n",
       " 'targets': [<tf.Tensor 'dense_9_target:0' shape=(?, ?) dtype=float32>],\n",
       " '_feed_targets': [<tf.Tensor 'dense_9_target:0' shape=(?, ?) dtype=float32>],\n",
       " 'sample_weights': [<tf.Tensor 'dense_9_sample_weights:0' shape=(?,) dtype=float32>],\n",
       " 'sample_weight_modes': [None],\n",
       " '_feed_sample_weight_modes': [None],\n",
       " '_feed_sample_weights': [<tf.Tensor 'dense_9_sample_weights:0' shape=(?,) dtype=float32>],\n",
       " '_per_output_metrics': [OrderedDict([('mse',\n",
       "                <keras.metrics.MeanMetricWrapper at 0x1b567c1b6d8>),\n",
       "               ('mae', <keras.metrics.MeanMetricWrapper at 0x1b567c1bac8>),\n",
       "               ('mape', <keras.metrics.MeanMetricWrapper at 0x1b567c1bc50>),\n",
       "               ('cosine',\n",
       "                <keras.metrics.MeanMetricWrapper at 0x1b567c1bda0>)])],\n",
       " '_per_output_weighted_metrics': [OrderedDict()],\n",
       " 'total_loss': <tf.Tensor 'Mean_1:0' shape=() dtype=float32>,\n",
       " '_function_kwargs': {},\n",
       " 'train_function': <tensorflow.python.keras.backend.GraphExecutionFunction at 0x1b567c3a518>,\n",
       " 'test_function': <tensorflow.python.keras.backend.GraphExecutionFunction at 0x1b567da5908>,\n",
       " 'predict_function': None,\n",
       " '_collected_trainable_weights': [<tf.Variable 'dense_7/kernel:0' shape=(1, 2) dtype=float32>,\n",
       "  <tf.Variable 'dense_7/bias:0' shape=(2,) dtype=float32>,\n",
       "  <tf.Variable 'dense_8/kernel:0' shape=(2, 1) dtype=float32>,\n",
       "  <tf.Variable 'dense_8/bias:0' shape=(1,) dtype=float32>,\n",
       "  <tf.Variable 'dense_9/kernel:0' shape=(1, 1) dtype=float32>,\n",
       "  <tf.Variable 'dense_9/bias:0' shape=(1,) dtype=float32>],\n",
       " 'history': <keras.callbacks.callbacks.History at 0x1b567bedeb8>,\n",
       " 'stop_training': False}"
      ]
     },
     "execution_count": 18,
     "metadata": {},
     "output_type": "execute_result"
    }
   ],
   "source": [
    "model.__dict__"
   ]
  },
  {
   "cell_type": "code",
   "execution_count": 17,
   "id": "782e7cb3",
   "metadata": {},
   "outputs": [
    {
     "data": {
      "text/plain": [
       "{'val_loss': [1.5777416229248047,\n",
       "  1.5609050989151,\n",
       "  1.5441848039627075,\n",
       "  1.5285983085632324,\n",
       "  1.5121097564697266],\n",
       " 'val_mse': [1.5777416229248047,\n",
       "  1.5609050989151,\n",
       "  1.5441848039627075,\n",
       "  1.5285983085632324,\n",
       "  1.5121097564697266],\n",
       " 'val_mae': [1.2543377876281738,\n",
       "  1.247619390487671,\n",
       "  1.2409112453460693,\n",
       "  1.2346251010894775,\n",
       "  1.227940320968628],\n",
       " 'val_mape': [132.03472900390625,\n",
       "  131.32669067382812,\n",
       "  130.6197509765625,\n",
       "  129.957275390625,\n",
       "  129.25277709960938],\n",
       " 'val_cosine': [1.0, 1.0, 1.0, 1.0, 1.0],\n",
       " 'loss': [0.4493333101272583,\n",
       "  0.44319283962249756,\n",
       "  0.4371070861816406,\n",
       "  0.4310762882232666,\n",
       "  0.4254662096500397],\n",
       " 'mse': [0.4493333, 0.44319284, 0.4371071, 0.4310763, 0.4254662],\n",
       " 'mae': [0.5973471, 0.59266585, 0.5879917, 0.583325, 0.5789523],\n",
       " 'mape': [132.7438, 131.3699, 129.99814, 128.62863, 127.34544],\n",
       " 'cosine': [1.0, 1.0, 0.99999994, 1.0, 1.0]}"
      ]
     },
     "execution_count": 17,
     "metadata": {},
     "output_type": "execute_result"
    }
   ],
   "source": [
    "history.history"
   ]
  },
  {
   "cell_type": "code",
   "execution_count": 18,
   "id": "bd428a04",
   "metadata": {},
   "outputs": [
    {
     "data": {
      "text/plain": [
       "[132.03472900390625,\n",
       " 131.32669067382812,\n",
       " 130.6197509765625,\n",
       " 129.957275390625,\n",
       " 129.25277709960938]"
      ]
     },
     "execution_count": 18,
     "metadata": {},
     "output_type": "execute_result"
    }
   ],
   "source": [
    "history.history['val_mape']"
   ]
  },
  {
   "cell_type": "code",
   "execution_count": 15,
   "id": "ab25c9ad",
   "metadata": {},
   "outputs": [
    {
     "data": {
      "text/plain": [
       "[0.4493333, 0.44319284, 0.4371071, 0.4310763, 0.4254662]"
      ]
     },
     "execution_count": 15,
     "metadata": {},
     "output_type": "execute_result"
    }
   ],
   "source": [
    "history.history['mse']"
   ]
  },
  {
   "cell_type": "code",
   "execution_count": 16,
   "id": "a908a719",
   "metadata": {},
   "outputs": [
    {
     "data": {
      "text/plain": [
       "0.4254662"
      ]
     },
     "execution_count": 16,
     "metadata": {},
     "output_type": "execute_result"
    }
   ],
   "source": [
    "history.history['mse'][-1]"
   ]
  },
  {
   "cell_type": "code",
   "execution_count": null,
   "id": "f93ad446",
   "metadata": {},
   "outputs": [],
   "source": [
    "from sklearn import metrics"
   ]
  },
  {
   "cell_type": "code",
   "execution_count": null,
   "id": "c897112e",
   "metadata": {},
   "outputs": [],
   "source": []
  },
  {
   "cell_type": "code",
   "execution_count": null,
   "id": "c766363f",
   "metadata": {},
   "outputs": [],
   "source": []
  },
  {
   "cell_type": "code",
   "execution_count": null,
   "id": "f07d166c",
   "metadata": {},
   "outputs": [],
   "source": []
  },
  {
   "cell_type": "code",
   "execution_count": 108,
   "id": "5a44e1d8",
   "metadata": {},
   "outputs": [],
   "source": [
    "def denormalize_x(array, x_max, x_min):\n",
    "    denorm_array = np.multiply(array, (x_max - x_min)[:, None]) + x_min[:, None]\n",
    "    return denorm_array"
   ]
  },
  {
   "cell_type": "code",
   "execution_count": 116,
   "id": "960f1317",
   "metadata": {},
   "outputs": [],
   "source": [
    "X = np.empty([2997,90,1])"
   ]
  },
  {
   "cell_type": "code",
   "execution_count": 117,
   "id": "cf18a1e4",
   "metadata": {},
   "outputs": [
    {
     "data": {
      "text/plain": [
       "(2997, 90, 1)"
      ]
     },
     "execution_count": 117,
     "metadata": {},
     "output_type": "execute_result"
    }
   ],
   "source": [
    "X.shape"
   ]
  },
  {
   "cell_type": "code",
   "execution_count": 119,
   "id": "e3f6567e",
   "metadata": {},
   "outputs": [],
   "source": [
    "X_test = X.reshape((X.shape[0], X.shape[1]))"
   ]
  },
  {
   "cell_type": "code",
   "execution_count": 121,
   "id": "3f20941f",
   "metadata": {},
   "outputs": [
    {
     "data": {
      "text/plain": [
       "(2997, 90)"
      ]
     },
     "execution_count": 121,
     "metadata": {},
     "output_type": "execute_result"
    }
   ],
   "source": [
    "X_test.shape"
   ]
  },
  {
   "cell_type": "code",
   "execution_count": 123,
   "id": "2ec5ea06",
   "metadata": {},
   "outputs": [
    {
     "data": {
      "text/plain": [
       "(2997, 90, 1)"
      ]
     },
     "execution_count": 123,
     "metadata": {},
     "output_type": "execute_result"
    }
   ],
   "source": [
    "X.reshape((X_test.shape[0], X_test.shape[1], 1)).shape"
   ]
  },
  {
   "cell_type": "code",
   "execution_count": 17,
   "id": "dcfad672",
   "metadata": {},
   "outputs": [
    {
     "data": {
      "text/plain": [
       "'ABMD'"
      ]
     },
     "execution_count": 17,
     "metadata": {},
     "output_type": "execute_result"
    }
   ],
   "source": [
    "path = '../data/5_cleaned_data\\ABMD.csv'\n",
    "company_name = path.split('../data/5_cleaned_data\\\\')[1].replace(\".csv\", \"\")\n",
    "#company_name = company_name.replace(\".csv\", \"\")\n",
    "company_name"
   ]
  },
  {
   "cell_type": "code",
   "execution_count": 2,
   "id": "22a658b4",
   "metadata": {},
   "outputs": [
    {
     "data": {
      "text/plain": [
       "(13, 3)"
      ]
     },
     "execution_count": 2,
     "metadata": {},
     "output_type": "execute_result"
    }
   ],
   "source": [
    "from datetime import datetime\n",
    "datetime.now().hour, datetime.now().minute"
   ]
  },
  {
   "cell_type": "code",
   "execution_count": 11,
   "id": "40621a9a",
   "metadata": {},
   "outputs": [
    {
     "name": "stdout",
     "output_type": "stream",
     "text": [
      "Exec_runtime: 11h 4min\n"
     ]
    }
   ],
   "source": [
    "print(f\"Exec_runtime: {datetime.now().hour}h {datetime.now().minute}min\")"
   ]
  },
  {
   "cell_type": "code",
   "execution_count": 4,
   "id": "909bf195",
   "metadata": {},
   "outputs": [],
   "source": [
    "start_time = datetime.now()"
   ]
  },
  {
   "cell_type": "code",
   "execution_count": 28,
   "id": "e34d27a2",
   "metadata": {},
   "outputs": [],
   "source": [
    "end_time = datetime.now()\n",
    "execution_time = end_time - start_time"
   ]
  },
  {
   "cell_type": "code",
   "execution_count": 34,
   "id": "39b26e5d",
   "metadata": {},
   "outputs": [
    {
     "data": {
      "text/plain": [
       "0"
      ]
     },
     "execution_count": 34,
     "metadata": {},
     "output_type": "execute_result"
    }
   ],
   "source": [
    "hours = execution_time.seconds // 3600\n",
    "hours"
   ]
  },
  {
   "cell_type": "code",
   "execution_count": 37,
   "id": "85324fe0",
   "metadata": {},
   "outputs": [
    {
     "data": {
      "text/plain": [
       "7"
      ]
     },
     "execution_count": 37,
     "metadata": {},
     "output_type": "execute_result"
    }
   ],
   "source": [
    "minutes = (execution_time.seconds % 3600) // 60\n",
    "minutes"
   ]
  },
  {
   "cell_type": "code",
   "execution_count": 40,
   "id": "9f3b2aa3",
   "metadata": {},
   "outputs": [
    {
     "data": {
      "text/plain": [
       "36"
      ]
     },
     "execution_count": 40,
     "metadata": {},
     "output_type": "execute_result"
    }
   ],
   "source": [
    "seconds = (execution_time.seconds % 3600) % 60\n",
    "seconds"
   ]
  },
  {
   "cell_type": "code",
   "execution_count": 42,
   "id": "97d52c69",
   "metadata": {},
   "outputs": [
    {
     "data": {
      "text/plain": [
       "'0h 7min 36s'"
      ]
     },
     "execution_count": 42,
     "metadata": {},
     "output_type": "execute_result"
    }
   ],
   "source": [
    "execution_time_h = f\"{hours}h {minutes}min {seconds}s\"\n",
    "execution_time_h"
   ]
  },
  {
   "cell_type": "code",
   "execution_count": 23,
   "id": "97091481",
   "metadata": {},
   "outputs": [
    {
     "data": {
      "text/plain": [
       "datetime.timedelta(0, 305, 468906)"
      ]
     },
     "execution_count": 23,
     "metadata": {},
     "output_type": "execute_result"
    }
   ],
   "source": [
    "execution_time"
   ]
  },
  {
   "cell_type": "code",
   "execution_count": null,
   "id": "692e6d4e",
   "metadata": {},
   "outputs": [],
   "source": []
  },
  {
   "cell_type": "code",
   "execution_count": 27,
   "id": "73a57a15",
   "metadata": {},
   "outputs": [
    {
     "data": {
      "text/plain": [
       "'0.08472222222222223 hours'"
      ]
     },
     "execution_count": 27,
     "metadata": {},
     "output_type": "execute_result"
    }
   ],
   "source": [
    "f\"{execution_time.days*24 + execution_time.seconds/3600} hours\""
   ]
  },
  {
   "cell_type": "code",
   "execution_count": 13,
   "id": "cd88014c",
   "metadata": {},
   "outputs": [
    {
     "data": {
      "text/plain": [
       "96"
      ]
     },
     "execution_count": 13,
     "metadata": {},
     "output_type": "execute_result"
    }
   ],
   "source": [
    "execution_time.seconds"
   ]
  },
  {
   "cell_type": "code",
   "execution_count": 7,
   "id": "679f4b26",
   "metadata": {},
   "outputs": [
    {
     "data": {
      "text/plain": [
       "0.0008333333333333334"
      ]
     },
     "execution_count": 7,
     "metadata": {},
     "output_type": "execute_result"
    }
   ],
   "source": [
    "execution_time.days * 24 + execution_time.seconds/3600"
   ]
  },
  {
   "cell_type": "code",
   "execution_count": null,
   "id": "c3ebc4f8",
   "metadata": {},
   "outputs": [],
   "source": []
  },
  {
   "cell_type": "code",
   "execution_count": 24,
   "id": "f0c57551",
   "metadata": {},
   "outputs": [],
   "source": [
    "import matplotlib.pyplot as plt\n",
    "import numpy as np\n",
    "X_test = np.array([5, 7,5,3,14,15,35,24,35,46,35,26,2,6,5,5,4,3])\n",
    "Y_test = np.array([3, 6, 8, 3, 9 , 12 ,15 , 16]) #, [2, 4, 5, 6,7,8,3,4]\n",
    "Y_predict = np.array([14, 8, 9, 7, 9, 16, 12 , 56]) #, [3,7,3,8,12,24,35,64]"
   ]
  },
  {
   "cell_type": "code",
   "execution_count": 74,
   "id": "0dfcd906",
   "metadata": {},
   "outputs": [
    {
     "data": {
      "text/plain": [
       "18"
      ]
     },
     "execution_count": 74,
     "metadata": {},
     "output_type": "execute_result"
    }
   ],
   "source": [
    "len(X_test)"
   ]
  },
  {
   "cell_type": "code",
   "execution_count": 81,
   "id": "89a5f7b4",
   "metadata": {},
   "outputs": [
    {
     "data": {
      "text/plain": [
       "8"
      ]
     },
     "execution_count": 81,
     "metadata": {},
     "output_type": "execute_result"
    }
   ],
   "source": [
    "len(Y_test)"
   ]
  },
  {
   "cell_type": "code",
   "execution_count": 35,
   "id": "bb538ef6",
   "metadata": {},
   "outputs": [
    {
     "name": "stdout",
     "output_type": "stream",
     "text": [
      "17\n",
      "range(17, 25)\n"
     ]
    }
   ],
   "source": [
    "X_test_len = range(len(X_test))\n",
    "print(X_test_len[-1])\n",
    "Y_test_len = range(X_test_len[-1], X_test_len[-1]+len(Y_test))\n",
    "print(Y_test_len)\n",
    "#Y_predict_len = range(len(Y_test)-len(Y_predict), len(Y_test))\n",
    "Y_predict_len = range(X_test_len[-1], X_test_len[-1]+len(Y_predict))\n"
   ]
  },
  {
   "cell_type": "code",
   "execution_count": 45,
   "id": "ebb8c7a0",
   "metadata": {},
   "outputs": [
    {
     "data": {
      "text/html": [
       "<div>\n",
       "<style scoped>\n",
       "    .dataframe tbody tr th:only-of-type {\n",
       "        vertical-align: middle;\n",
       "    }\n",
       "\n",
       "    .dataframe tbody tr th {\n",
       "        vertical-align: top;\n",
       "    }\n",
       "\n",
       "    .dataframe thead th {\n",
       "        text-align: right;\n",
       "    }\n",
       "</style>\n",
       "<table border=\"1\" class=\"dataframe\">\n",
       "  <thead>\n",
       "    <tr style=\"text-align: right;\">\n",
       "      <th></th>\n",
       "      <th>x_min</th>\n",
       "      <th>x_max</th>\n",
       "      <th>company_name</th>\n",
       "      <th>input_period_start_date</th>\n",
       "      <th>input_period_end_date</th>\n",
       "      <th>output_period_start_date</th>\n",
       "      <th>output_period_end_date</th>\n",
       "    </tr>\n",
       "  </thead>\n",
       "  <tbody>\n",
       "    <tr>\n",
       "      <th>0</th>\n",
       "      <td>12.729134</td>\n",
       "      <td>15.393403</td>\n",
       "      <td>../data/5_cleaned_data\\ABMD</td>\n",
       "      <td>2008-01-02</td>\n",
       "      <td>2008-03-31</td>\n",
       "      <td>2008-04-01</td>\n",
       "      <td>2008-04-30</td>\n",
       "    </tr>\n",
       "    <tr>\n",
       "      <th>1</th>\n",
       "      <td>12.729134</td>\n",
       "      <td>15.267558</td>\n",
       "      <td>../data/5_cleaned_data\\ABMD</td>\n",
       "      <td>2008-02-01</td>\n",
       "      <td>2008-04-30</td>\n",
       "      <td>2008-05-01</td>\n",
       "      <td>2008-05-30</td>\n",
       "    </tr>\n",
       "    <tr>\n",
       "      <th>2</th>\n",
       "      <td>12.729134</td>\n",
       "      <td>15.213822</td>\n",
       "      <td>../data/5_cleaned_data\\ABMD</td>\n",
       "      <td>2008-03-02</td>\n",
       "      <td>2008-05-30</td>\n",
       "      <td>2008-05-31</td>\n",
       "      <td>2008-06-29</td>\n",
       "    </tr>\n",
       "    <tr>\n",
       "      <th>3</th>\n",
       "      <td>13.011633</td>\n",
       "      <td>19.594873</td>\n",
       "      <td>../data/5_cleaned_data\\ABMD</td>\n",
       "      <td>2008-04-01</td>\n",
       "      <td>2008-06-29</td>\n",
       "      <td>2008-06-30</td>\n",
       "      <td>2008-07-29</td>\n",
       "    </tr>\n",
       "    <tr>\n",
       "      <th>4</th>\n",
       "      <td>13.667083</td>\n",
       "      <td>19.758955</td>\n",
       "      <td>../data/5_cleaned_data\\ABMD</td>\n",
       "      <td>2008-05-01</td>\n",
       "      <td>2008-07-29</td>\n",
       "      <td>2008-07-30</td>\n",
       "      <td>2008-08-28</td>\n",
       "    </tr>\n",
       "    <tr>\n",
       "      <th>...</th>\n",
       "      <td>...</td>\n",
       "      <td>...</td>\n",
       "      <td>...</td>\n",
       "      <td>...</td>\n",
       "      <td>...</td>\n",
       "      <td>...</td>\n",
       "      <td>...</td>\n",
       "    </tr>\n",
       "    <tr>\n",
       "      <th>9074</th>\n",
       "      <td>286.256340</td>\n",
       "      <td>411.422362</td>\n",
       "      <td>../data/5_cleaned_data\\ZM</td>\n",
       "      <td>2021-02-23</td>\n",
       "      <td>2021-05-23</td>\n",
       "      <td>2021-05-24</td>\n",
       "      <td>2021-06-22</td>\n",
       "    </tr>\n",
       "    <tr>\n",
       "      <th>9075</th>\n",
       "      <td>286.256340</td>\n",
       "      <td>374.782893</td>\n",
       "      <td>../data/5_cleaned_data\\ZM</td>\n",
       "      <td>2021-03-25</td>\n",
       "      <td>2021-06-22</td>\n",
       "      <td>2021-06-23</td>\n",
       "      <td>2021-07-22</td>\n",
       "    </tr>\n",
       "    <tr>\n",
       "      <th>9076</th>\n",
       "      <td>286.256340</td>\n",
       "      <td>399.897178</td>\n",
       "      <td>../data/5_cleaned_data\\ZM</td>\n",
       "      <td>2021-04-24</td>\n",
       "      <td>2021-07-22</td>\n",
       "      <td>2021-07-23</td>\n",
       "      <td>2021-08-21</td>\n",
       "    </tr>\n",
       "    <tr>\n",
       "      <th>9077</th>\n",
       "      <td>320.963768</td>\n",
       "      <td>399.897178</td>\n",
       "      <td>../data/5_cleaned_data\\ZM</td>\n",
       "      <td>2021-05-24</td>\n",
       "      <td>2021-08-21</td>\n",
       "      <td>2021-08-22</td>\n",
       "      <td>2021-09-20</td>\n",
       "    </tr>\n",
       "    <tr>\n",
       "      <th>9078</th>\n",
       "      <td>276.562161</td>\n",
       "      <td>399.897178</td>\n",
       "      <td>../data/5_cleaned_data\\ZM</td>\n",
       "      <td>2021-06-23</td>\n",
       "      <td>2021-09-20</td>\n",
       "      <td>2021-09-21</td>\n",
       "      <td>2021-10-20</td>\n",
       "    </tr>\n",
       "  </tbody>\n",
       "</table>\n",
       "<p>9079 rows × 7 columns</p>\n",
       "</div>"
      ],
      "text/plain": [
       "           x_min       x_max                 company_name  \\\n",
       "0      12.729134   15.393403  ../data/5_cleaned_data\\ABMD   \n",
       "1      12.729134   15.267558  ../data/5_cleaned_data\\ABMD   \n",
       "2      12.729134   15.213822  ../data/5_cleaned_data\\ABMD   \n",
       "3      13.011633   19.594873  ../data/5_cleaned_data\\ABMD   \n",
       "4      13.667083   19.758955  ../data/5_cleaned_data\\ABMD   \n",
       "...          ...         ...                          ...   \n",
       "9074  286.256340  411.422362    ../data/5_cleaned_data\\ZM   \n",
       "9075  286.256340  374.782893    ../data/5_cleaned_data\\ZM   \n",
       "9076  286.256340  399.897178    ../data/5_cleaned_data\\ZM   \n",
       "9077  320.963768  399.897178    ../data/5_cleaned_data\\ZM   \n",
       "9078  276.562161  399.897178    ../data/5_cleaned_data\\ZM   \n",
       "\n",
       "     input_period_start_date input_period_end_date output_period_start_date  \\\n",
       "0                 2008-01-02            2008-03-31               2008-04-01   \n",
       "1                 2008-02-01            2008-04-30               2008-05-01   \n",
       "2                 2008-03-02            2008-05-30               2008-05-31   \n",
       "3                 2008-04-01            2008-06-29               2008-06-30   \n",
       "4                 2008-05-01            2008-07-29               2008-07-30   \n",
       "...                      ...                   ...                      ...   \n",
       "9074              2021-02-23            2021-05-23               2021-05-24   \n",
       "9075              2021-03-25            2021-06-22               2021-06-23   \n",
       "9076              2021-04-24            2021-07-22               2021-07-23   \n",
       "9077              2021-05-24            2021-08-21               2021-08-22   \n",
       "9078              2021-06-23            2021-09-20               2021-09-21   \n",
       "\n",
       "     output_period_end_date  \n",
       "0                2008-04-30  \n",
       "1                2008-05-30  \n",
       "2                2008-06-29  \n",
       "3                2008-07-29  \n",
       "4                2008-08-28  \n",
       "...                     ...  \n",
       "9074             2021-06-22  \n",
       "9075             2021-07-22  \n",
       "9076             2021-08-21  \n",
       "9077             2021-09-20  \n",
       "9078             2021-10-20  \n",
       "\n",
       "[9079 rows x 7 columns]"
      ]
     },
     "execution_count": 45,
     "metadata": {},
     "output_type": "execute_result"
    }
   ],
   "source": [
    "import pandas as pd\n",
    "df = pd.read_csv('normalisation_input_window_size_90_output_window_size_30_freq_30_output_averaging_False_input_averaging_False_use_log_False.csv', index_col=0)\n",
    "df"
   ]
  },
  {
   "cell_type": "code",
   "execution_count": 47,
   "id": "5902b655",
   "metadata": {},
   "outputs": [
    {
     "data": {
      "text/plain": [
       "str"
      ]
     },
     "execution_count": 47,
     "metadata": {},
     "output_type": "execute_result"
    }
   ],
   "source": [
    "type(df.input_period_start_date[0])"
   ]
  },
  {
   "cell_type": "code",
   "execution_count": 13,
   "id": "dfe31172",
   "metadata": {},
   "outputs": [],
   "source": [
    "from datetime import datetime\n",
    "from pandas import DateOffset\n",
    "import pandas as pd"
   ]
  },
  {
   "cell_type": "code",
   "execution_count": 4,
   "id": "effc03b7",
   "metadata": {},
   "outputs": [],
   "source": [
    "input_period_start_date_test = '2008-01-02' \n",
    "input_period_end_date_test = '2008-01-19'"
   ]
  },
  {
   "cell_type": "code",
   "execution_count": 14,
   "id": "f25d33c4",
   "metadata": {},
   "outputs": [
    {
     "data": {
      "text/plain": [
       "Timestamp('2008-01-02 00:00:00')"
      ]
     },
     "execution_count": 14,
     "metadata": {},
     "output_type": "execute_result"
    }
   ],
   "source": [
    "pd.Timestamp(input_period_start_date_test)"
   ]
  },
  {
   "cell_type": "code",
   "execution_count": 22,
   "id": "41edbc9d",
   "metadata": {},
   "outputs": [
    {
     "data": {
      "text/plain": [
       "DatetimeIndex(['2008-01-02', '2008-02-01', '2008-03-02', '2008-04-01',\n",
       "               '2008-05-01', '2008-05-31', '2008-06-30', '2008-07-30',\n",
       "               '2008-08-29', '2008-09-28', '2008-10-28', '2008-11-27',\n",
       "               '2008-12-27', '2009-01-26'],\n",
       "              dtype='datetime64[ns]', freq=None)"
      ]
     },
     "execution_count": 22,
     "metadata": {},
     "output_type": "execute_result"
    }
   ],
   "source": [
    "n_steps = 13\n",
    "input_per_range = []\n",
    "input_per_range.append(pd.Timestamp(input_period_start_date_test))\n",
    "for period in range(n_steps):\n",
    "    input_per_range.append(pd.Timestamp(input_period_start_date_test) + DateOffset(days=30*(period+1)))\n",
    "input_period_range = pd.DatetimeIndex(input_per_range)\n",
    "input_period_range"
   ]
  },
  {
   "cell_type": "code",
   "execution_count": 16,
   "id": "55ac0e66",
   "metadata": {},
   "outputs": [
    {
     "data": {
      "text/plain": [
       "[Timestamp('2008-01-02 00:00:00'),\n",
       " Timestamp('2008-01-03 00:00:00'),\n",
       " Timestamp('2008-01-04 00:00:00'),\n",
       " Timestamp('2008-01-05 00:00:00'),\n",
       " Timestamp('2008-01-06 00:00:00'),\n",
       " Timestamp('2008-01-07 00:00:00'),\n",
       " Timestamp('2008-01-08 00:00:00'),\n",
       " Timestamp('2008-01-09 00:00:00'),\n",
       " Timestamp('2008-01-10 00:00:00'),\n",
       " Timestamp('2008-01-11 00:00:00'),\n",
       " Timestamp('2008-01-12 00:00:00'),\n",
       " Timestamp('2008-01-13 00:00:00'),\n",
       " Timestamp('2008-01-14 00:00:00'),\n",
       " Timestamp('2008-01-15 00:00:00')]"
      ]
     },
     "execution_count": 16,
     "metadata": {},
     "output_type": "execute_result"
    }
   ],
   "source": [
    "input_per_range"
   ]
  },
  {
   "cell_type": "code",
   "execution_count": 19,
   "id": "1befd21c",
   "metadata": {},
   "outputs": [
    {
     "data": {
      "text/plain": [
       "DatetimeIndex(['2008-01-02', '2008-01-03', '2008-01-04', '2008-01-05',\n",
       "               '2008-01-06', '2008-01-07', '2008-01-08', '2008-01-09',\n",
       "               '2008-01-10', '2008-01-11', '2008-01-12', '2008-01-13',\n",
       "               '2008-01-14', '2008-01-15'],\n",
       "              dtype='datetime64[ns]', freq=None)"
      ]
     },
     "execution_count": 19,
     "metadata": {},
     "output_type": "execute_result"
    }
   ],
   "source": [
    "pd.DatetimeIndex(input_per_range)"
   ]
  },
  {
   "cell_type": "code",
   "execution_count": 84,
   "id": "e2de4b5d",
   "metadata": {},
   "outputs": [
    {
     "data": {
      "text/plain": [
       "DatetimeIndex(['2008-01-02', '2008-01-03', '2008-01-04', '2008-01-05',\n",
       "               '2008-01-06', '2008-01-07', '2008-01-08', '2008-01-09',\n",
       "               '2008-01-10', '2008-01-11', '2008-01-12', '2008-01-13',\n",
       "               '2008-01-14', '2008-01-15', '2008-01-16', '2008-01-17',\n",
       "               '2008-01-18', '2008-01-19'],\n",
       "              dtype='datetime64[ns]', freq='D')"
      ]
     },
     "execution_count": 84,
     "metadata": {},
     "output_type": "execute_result"
    }
   ],
   "source": [
    "input_period_range = pd.date_range(datetime.strptime(input_period_start_date_test, '%Y-%m-%d'), \n",
    "                                   datetime.strptime(input_period_end_date_test, '%Y-%m-%d'))\n",
    "input_period_range"
   ]
  },
  {
   "cell_type": "code",
   "execution_count": 85,
   "id": "f78d7a0d",
   "metadata": {},
   "outputs": [],
   "source": [
    "output_period_start_date_test = '2008-01-20' \n",
    "output_period_end_date_test = '2008-01-27'"
   ]
  },
  {
   "cell_type": "code",
   "execution_count": 125,
   "id": "14fcef52",
   "metadata": {},
   "outputs": [
    {
     "data": {
      "text/plain": [
       "DatetimeIndex(['2008-01-20', '2008-01-21', '2008-01-22', '2008-01-23',\n",
       "               '2008-01-24', '2008-01-25', '2008-01-26', '2008-01-27'],\n",
       "              dtype='datetime64[ns]', freq='D')"
      ]
     },
     "execution_count": 125,
     "metadata": {},
     "output_type": "execute_result"
    }
   ],
   "source": [
    "output_period_range = pd.date_range(datetime.strptime(output_period_start_date_test, '%Y-%m-%d'), \n",
    "                                   datetime.strptime(output_period_end_date_test, '%Y-%m-%d'))\n",
    "output_period_range"
   ]
  },
  {
   "cell_type": "code",
   "execution_count": 130,
   "id": "c1fcf826",
   "metadata": {},
   "outputs": [
    {
     "data": {
      "text/plain": [
       "8"
      ]
     },
     "execution_count": 130,
     "metadata": {},
     "output_type": "execute_result"
    }
   ],
   "source": [
    "len(output_period_range)"
   ]
  },
  {
   "cell_type": "code",
   "execution_count": 131,
   "id": "63880079",
   "metadata": {},
   "outputs": [
    {
     "data": {
      "text/plain": [
       "DatetimeIndex(['2008-01-20', '2008-01-21', '2008-01-22', '2008-01-23',\n",
       "               '2008-01-24', '2008-01-25', '2008-01-26'],\n",
       "              dtype='datetime64[ns]', freq='D')"
      ]
     },
     "execution_count": 131,
     "metadata": {},
     "output_type": "execute_result"
    }
   ],
   "source": [
    "output_period_range[:7]"
   ]
  },
  {
   "cell_type": "code",
   "execution_count": 104,
   "id": "d335ab84",
   "metadata": {},
   "outputs": [
    {
     "data": {
      "image/png": "[encoded data removed]",
      "text/plain": [
       "<Figure size 1008x504 with 1 Axes>"
      ]
     },
     "metadata": {
      "needs_background": "light"
     },
     "output_type": "display_data"
    },
    {
     "data": {
      "text/plain": [
       "<function matplotlib.pyplot.close(fig=None)>"
      ]
     },
     "execution_count": 104,
     "metadata": {},
     "output_type": "execute_result"
    }
   ],
   "source": [
    "fig = plt.figure(figsize=(14,7))\n",
    "#plt.plot(len(Y_test), Y_test, \"b\", len(Y_predict), Y_predict, \"g\")\n",
    "plt.title(\"Prediction for period = ?\")\n",
    "plt.plot(input_period_range, X_test, \"bo-\", label='training') #\"bo\"\n",
    "plt.plot(output_period_range, Y_test, \"go-\", label='actual') #\"go\"\n",
    "plt.plot(output_period_range, Y_predict, \"ro-\", label='forecast') #\"rs-\"\n",
    "plt.legend()\n",
    "#plt.plot(ts, true, \"b\", ts_predicted, predicted, \"g\")\n",
    "#plt.ylim(min,max) #zakres y od min do max\n",
    "#plt.savefig()\n",
    "plt.show()\n",
    "plt.close"
   ]
  },
  {
   "cell_type": "code",
   "execution_count": 107,
   "id": "b211aa98",
   "metadata": {},
   "outputs": [
    {
     "data": {
      "text/plain": [
       "[<matplotlib.lines.Line2D at 0x220d93baf98>,\n",
       " <matplotlib.lines.Line2D at 0x220d94e0748>,\n",
       " <matplotlib.lines.Line2D at 0x220d94e09b0>]"
      ]
     },
     "execution_count": 107,
     "metadata": {},
     "output_type": "execute_result"
    },
    {
     "data": {
      "image/png": "[encoded data removed]",
      "text/plain": [
       "<Figure size 432x288 with 1 Axes>"
      ]
     },
     "metadata": {
      "needs_background": "light"
     },
     "output_type": "display_data"
    }
   ],
   "source": [
    "plt.plot(input_period_range, X_test, \"b^-\", output_period_range, Y_test, 'g-', output_period_range, Y_predict, \"rs-\")"
   ]
  },
  {
   "cell_type": "code",
   "execution_count": null,
   "id": "5cdca3b0",
   "metadata": {},
   "outputs": [],
   "source": []
  },
  {
   "cell_type": "code",
   "execution_count": 50,
   "id": "d3eb9bca",
   "metadata": {},
   "outputs": [
    {
     "name": "stdout",
     "output_type": "stream",
     "text": [
      "[(3, 14), (6, 8), (8, 9), (3, 7), (9, 9), (12, 16), (15, 12), (16, 56)]\n",
      "[(2, 3), (4, 7), (5, 3), (6, 8), (7, 12), (8, 24), (3, 35), (4, 64)]\n",
      "    y_true  y_predict\n",
      "0        3         14\n",
      "1        6          8\n",
      "2        8          9\n",
      "3        3          7\n",
      "4        9          9\n",
      "5       12         16\n",
      "6       15         12\n",
      "7       16         56\n",
      "8        2          3\n",
      "9        4          7\n",
      "10       5          3\n",
      "11       6          8\n",
      "12       7         12\n",
      "13       8         24\n",
      "14       3         35\n",
      "15       4         64\n"
     ]
    }
   ],
   "source": [
    "df = pd.DataFrame()\n",
    "for i in range(len(Y_test)):\n",
    "    #print(zip(Y_test[i],Y_predict[i]))\n",
    "    print(list(zip(Y_test[i],Y_predict[i])))\n",
    "    data_tuples = list(zip(Y_test[i],Y_predict[i]))\n",
    "    df = df.append(data_tuples, ignore_index=True)\n",
    "df.columns = ['y_true', 'y_predict']\n",
    "print(df)"
   ]
  },
  {
   "cell_type": "code",
   "execution_count": 2,
   "id": "5b4a6ef4",
   "metadata": {},
   "outputs": [
    {
     "data": {
      "text/html": [
       "<div>\n",
       "<style scoped>\n",
       "    .dataframe tbody tr th:only-of-type {\n",
       "        vertical-align: middle;\n",
       "    }\n",
       "\n",
       "    .dataframe tbody tr th {\n",
       "        vertical-align: top;\n",
       "    }\n",
       "\n",
       "    .dataframe thead th {\n",
       "        text-align: right;\n",
       "    }\n",
       "</style>\n",
       "<table border=\"1\" class=\"dataframe\">\n",
       "  <thead>\n",
       "    <tr style=\"text-align: right;\">\n",
       "      <th></th>\n",
       "      <th>Month</th>\n",
       "      <th>Day</th>\n",
       "    </tr>\n",
       "  </thead>\n",
       "  <tbody>\n",
       "    <tr>\n",
       "      <th>0</th>\n",
       "      <td>Jan</td>\n",
       "      <td>31</td>\n",
       "    </tr>\n",
       "    <tr>\n",
       "      <th>1</th>\n",
       "      <td>Apr</td>\n",
       "      <td>30</td>\n",
       "    </tr>\n",
       "    <tr>\n",
       "      <th>2</th>\n",
       "      <td>Mar</td>\n",
       "      <td>31</td>\n",
       "    </tr>\n",
       "    <tr>\n",
       "      <th>3</th>\n",
       "      <td>June</td>\n",
       "      <td>30</td>\n",
       "    </tr>\n",
       "  </tbody>\n",
       "</table>\n",
       "</div>"
      ],
      "text/plain": [
       "  Month  Day\n",
       "0   Jan   31\n",
       "1   Apr   30\n",
       "2   Mar   31\n",
       "3  June   30"
      ]
     },
     "execution_count": 2,
     "metadata": {},
     "output_type": "execute_result"
    }
   ],
   "source": [
    "import pandas as pd\n",
    "months = ['Jan','Apr','Mar','June']\n",
    "days = [31,30,31,30]\n",
    "d = {'Month':months,'Day':days}\n",
    "df = pd.DataFrame(d)\n",
    "df"
   ]
  },
  {
   "cell_type": "code",
   "execution_count": 4,
   "id": "ec99a2cf",
   "metadata": {},
   "outputs": [
    {
     "data": {
      "text/plain": [
       "['Jan', 'Apr', 'Mar', 'June']"
      ]
     },
     "execution_count": 4,
     "metadata": {},
     "output_type": "execute_result"
    }
   ],
   "source": [
    "list(df['Month'].values)"
   ]
  },
  {
   "cell_type": "code",
   "execution_count": 7,
   "id": "f00bc714",
   "metadata": {},
   "outputs": [
    {
     "data": {
      "text/plain": [
       "array(['Jan', 'Apr', 'Mar', 'June'], dtype='<U4')"
      ]
     },
     "execution_count": 7,
     "metadata": {},
     "output_type": "execute_result"
    }
   ],
   "source": [
    "import numpy as np\n",
    "np.array(list(df['Month'].values))"
   ]
  },
  {
   "cell_type": "markdown",
   "id": "53384ba9",
   "metadata": {},
   "source": [
    "# MODELLING"
   ]
  },
  {
   "cell_type": "code",
   "execution_count": 6,
   "id": "5c80bbf9",
   "metadata": {},
   "outputs": [],
   "source": [
    "# from utils import DATA_PATH # utils.py"
   ]
  },
  {
   "cell_type": "code",
   "execution_count": 104,
   "id": "9f5f6de4",
   "metadata": {},
   "outputs": [],
   "source": [
    "import pandas as pd\n",
    "import numpy as np\n",
    "import glob\n",
    "\n",
    "DATA_PATH = './data'\n",
    "PREPROCESSED_DATA_PATH = DATA_PATH + '/4_preprocessed_data'"
   ]
  },
  {
   "cell_type": "code",
   "execution_count": 23,
   "id": "050f17ba",
   "metadata": {},
   "outputs": [],
   "source": [
    "PREPROCESSED_DATA_PATHS = glob.glob(PREPROCESSED_DATA_PATH + \"/*.csv\")"
   ]
  },
  {
   "cell_type": "code",
   "execution_count": 24,
   "id": "c48bb95e",
   "metadata": {},
   "outputs": [],
   "source": [
    "import datetime as dt\n",
    "import matplotlib.pyplot as plt\n",
    "\n",
    "INPUT_WINDOW_SIZE=90  # tutaj bierzemy dni\n",
    "OUTPUT_WINDOW_SIZE=2  # ulec zmianie że nie w dniach ale w miesiącach uśrednionych albo coś\n",
    "OUTPUT_AVERAGING=False\n",
    "USE_LOG=False\n",
    "FREQ=30 #okno miesięczne"
   ]
  },
  {
   "cell_type": "code",
   "execution_count": 21,
   "id": "9fdabeb1",
   "metadata": {
    "tags": []
   },
   "outputs": [
    {
     "ename": "KeyboardInterrupt",
     "evalue": "",
     "output_type": "error",
     "traceback": [
      "\u001b[1;31m---------------------------------------------------------------------------\u001b[0m",
      "\u001b[1;31mKeyboardInterrupt\u001b[0m                         Traceback (most recent call last)",
      "\u001b[1;32m<ipython-input-21-8cad4eb0f014>\u001b[0m in \u001b[0;36m<module>\u001b[1;34m\u001b[0m\n\u001b[0;32m     25\u001b[0m \u001b[1;31m#         if len(input_period)!=90 or len(output_period)!=OUTPUT_WINDOW_SIZE:\u001b[0m\u001b[1;33m\u001b[0m\u001b[1;33m\u001b[0m\u001b[1;33m\u001b[0m\u001b[0m\n\u001b[0;32m     26\u001b[0m \u001b[1;31m#             break\u001b[0m\u001b[1;33m\u001b[0m\u001b[1;33m\u001b[0m\u001b[1;33m\u001b[0m\u001b[0m\n\u001b[1;32m---> 27\u001b[1;33m         \u001b[0mX_df\u001b[0m \u001b[1;33m=\u001b[0m \u001b[0mX_df\u001b[0m\u001b[1;33m.\u001b[0m\u001b[0mappend\u001b[0m\u001b[1;33m(\u001b[0m\u001b[0minput_period\u001b[0m\u001b[1;33m)\u001b[0m\u001b[1;33m\u001b[0m\u001b[1;33m\u001b[0m\u001b[0m\n\u001b[0m\u001b[0;32m     28\u001b[0m         \u001b[0mY_df\u001b[0m \u001b[1;33m=\u001b[0m \u001b[0mY_df\u001b[0m\u001b[1;33m.\u001b[0m\u001b[0mappend\u001b[0m\u001b[1;33m(\u001b[0m\u001b[0moutput_period\u001b[0m\u001b[1;33m)\u001b[0m\u001b[1;33m\u001b[0m\u001b[1;33m\u001b[0m\u001b[0m\n\u001b[0;32m     29\u001b[0m \u001b[1;33m\u001b[0m\u001b[0m\n",
      "\u001b[1;32m~\\miniconda3\\envs\\ds\\lib\\site-packages\\pandas\\core\\frame.py\u001b[0m in \u001b[0;36mappend\u001b[1;34m(self, other, ignore_index, verify_integrity, sort)\u001b[0m\n\u001b[0;32m   7984\u001b[0m                 \u001b[0mignore_index\u001b[0m\u001b[1;33m=\u001b[0m\u001b[0mignore_index\u001b[0m\u001b[1;33m,\u001b[0m\u001b[1;33m\u001b[0m\u001b[1;33m\u001b[0m\u001b[0m\n\u001b[0;32m   7985\u001b[0m                 \u001b[0mverify_integrity\u001b[0m\u001b[1;33m=\u001b[0m\u001b[0mverify_integrity\u001b[0m\u001b[1;33m,\u001b[0m\u001b[1;33m\u001b[0m\u001b[1;33m\u001b[0m\u001b[0m\n\u001b[1;32m-> 7986\u001b[1;33m                 \u001b[0msort\u001b[0m\u001b[1;33m=\u001b[0m\u001b[0msort\u001b[0m\u001b[1;33m,\u001b[0m\u001b[1;33m\u001b[0m\u001b[1;33m\u001b[0m\u001b[0m\n\u001b[0m\u001b[0;32m   7987\u001b[0m             )\n\u001b[0;32m   7988\u001b[0m         ).__finalize__(self, method=\"append\")\n",
      "\u001b[1;32m~\\miniconda3\\envs\\ds\\lib\\site-packages\\pandas\\core\\reshape\\concat.py\u001b[0m in \u001b[0;36mconcat\u001b[1;34m(objs, axis, join, ignore_index, keys, levels, names, verify_integrity, sort, copy)\u001b[0m\n\u001b[0;32m    296\u001b[0m     )\n\u001b[0;32m    297\u001b[0m \u001b[1;33m\u001b[0m\u001b[0m\n\u001b[1;32m--> 298\u001b[1;33m     \u001b[1;32mreturn\u001b[0m \u001b[0mop\u001b[0m\u001b[1;33m.\u001b[0m\u001b[0mget_result\u001b[0m\u001b[1;33m(\u001b[0m\u001b[1;33m)\u001b[0m\u001b[1;33m\u001b[0m\u001b[1;33m\u001b[0m\u001b[0m\n\u001b[0m\u001b[0;32m    299\u001b[0m \u001b[1;33m\u001b[0m\u001b[0m\n\u001b[0;32m    300\u001b[0m \u001b[1;33m\u001b[0m\u001b[0m\n",
      "\u001b[1;32m~\\miniconda3\\envs\\ds\\lib\\site-packages\\pandas\\core\\reshape\\concat.py\u001b[0m in \u001b[0;36mget_result\u001b[1;34m(self)\u001b[0m\n\u001b[0;32m    519\u001b[0m \u001b[1;33m\u001b[0m\u001b[0m\n\u001b[0;32m    520\u001b[0m             new_data = concatenate_block_managers(\n\u001b[1;32m--> 521\u001b[1;33m                 \u001b[0mmgrs_indexers\u001b[0m\u001b[1;33m,\u001b[0m \u001b[0mself\u001b[0m\u001b[1;33m.\u001b[0m\u001b[0mnew_axes\u001b[0m\u001b[1;33m,\u001b[0m \u001b[0mconcat_axis\u001b[0m\u001b[1;33m=\u001b[0m\u001b[0mself\u001b[0m\u001b[1;33m.\u001b[0m\u001b[0mbm_axis\u001b[0m\u001b[1;33m,\u001b[0m \u001b[0mcopy\u001b[0m\u001b[1;33m=\u001b[0m\u001b[0mself\u001b[0m\u001b[1;33m.\u001b[0m\u001b[0mcopy\u001b[0m\u001b[1;33m\u001b[0m\u001b[1;33m\u001b[0m\u001b[0m\n\u001b[0m\u001b[0;32m    522\u001b[0m             )\n\u001b[0;32m    523\u001b[0m             \u001b[1;32mif\u001b[0m \u001b[1;32mnot\u001b[0m \u001b[0mself\u001b[0m\u001b[1;33m.\u001b[0m\u001b[0mcopy\u001b[0m\u001b[1;33m:\u001b[0m\u001b[1;33m\u001b[0m\u001b[1;33m\u001b[0m\u001b[0m\n",
      "\u001b[1;32m~\\miniconda3\\envs\\ds\\lib\\site-packages\\pandas\\core\\internals\\concat.py\u001b[0m in \u001b[0;36mconcatenate_block_managers\u001b[1;34m(mgrs_indexers, axes, concat_axis, copy)\u001b[0m\n\u001b[0;32m     71\u001b[0m \u001b[1;33m\u001b[0m\u001b[0m\n\u001b[0;32m     72\u001b[0m             \u001b[1;32mif\u001b[0m \u001b[1;32mnot\u001b[0m \u001b[0mblk\u001b[0m\u001b[1;33m.\u001b[0m\u001b[0mis_extension\u001b[0m\u001b[1;33m:\u001b[0m\u001b[1;33m\u001b[0m\u001b[1;33m\u001b[0m\u001b[0m\n\u001b[1;32m---> 73\u001b[1;33m                 \u001b[0mvalues\u001b[0m \u001b[1;33m=\u001b[0m \u001b[0mconcat_compat\u001b[0m\u001b[1;33m(\u001b[0m\u001b[0mvals\u001b[0m\u001b[1;33m,\u001b[0m \u001b[0maxis\u001b[0m\u001b[1;33m=\u001b[0m\u001b[0mblk\u001b[0m\u001b[1;33m.\u001b[0m\u001b[0mndim\u001b[0m \u001b[1;33m-\u001b[0m \u001b[1;36m1\u001b[0m\u001b[1;33m)\u001b[0m\u001b[1;33m\u001b[0m\u001b[1;33m\u001b[0m\u001b[0m\n\u001b[0m\u001b[0;32m     74\u001b[0m             \u001b[1;32melse\u001b[0m\u001b[1;33m:\u001b[0m\u001b[1;33m\u001b[0m\u001b[1;33m\u001b[0m\u001b[0m\n\u001b[0;32m     75\u001b[0m                 \u001b[1;31m# TODO(EA2D): special-casing not needed with 2D EAs\u001b[0m\u001b[1;33m\u001b[0m\u001b[1;33m\u001b[0m\u001b[1;33m\u001b[0m\u001b[0m\n",
      "\u001b[1;32m~\\miniconda3\\envs\\ds\\lib\\site-packages\\pandas\\core\\dtypes\\concat.py\u001b[0m in \u001b[0;36mconcat_compat\u001b[1;34m(to_concat, axis)\u001b[0m\n\u001b[0;32m    169\u001b[0m                 \u001b[0mto_concat\u001b[0m \u001b[1;33m=\u001b[0m \u001b[1;33m[\u001b[0m\u001b[0mx\u001b[0m\u001b[1;33m.\u001b[0m\u001b[0mastype\u001b[0m\u001b[1;33m(\u001b[0m\u001b[1;34m\"object\"\u001b[0m\u001b[1;33m)\u001b[0m \u001b[1;32mfor\u001b[0m \u001b[0mx\u001b[0m \u001b[1;32min\u001b[0m \u001b[0mto_concat\u001b[0m\u001b[1;33m]\u001b[0m\u001b[1;33m\u001b[0m\u001b[1;33m\u001b[0m\u001b[0m\n\u001b[0;32m    170\u001b[0m \u001b[1;33m\u001b[0m\u001b[0m\n\u001b[1;32m--> 171\u001b[1;33m     \u001b[1;32mreturn\u001b[0m \u001b[0mnp\u001b[0m\u001b[1;33m.\u001b[0m\u001b[0mconcatenate\u001b[0m\u001b[1;33m(\u001b[0m\u001b[0mto_concat\u001b[0m\u001b[1;33m,\u001b[0m \u001b[0maxis\u001b[0m\u001b[1;33m=\u001b[0m\u001b[0maxis\u001b[0m\u001b[1;33m)\u001b[0m\u001b[1;33m\u001b[0m\u001b[1;33m\u001b[0m\u001b[0m\n\u001b[0m\u001b[0;32m    172\u001b[0m \u001b[1;33m\u001b[0m\u001b[0m\n\u001b[0;32m    173\u001b[0m \u001b[1;33m\u001b[0m\u001b[0m\n",
      "\u001b[1;32m<__array_function__ internals>\u001b[0m in \u001b[0;36mconcatenate\u001b[1;34m(*args, **kwargs)\u001b[0m\n",
      "\u001b[1;31mKeyboardInterrupt\u001b[0m: "
     ]
    }
   ],
   "source": [
    "X_df = pd.DataFrame()\n",
    "Y_df = pd.DataFrame()\n",
    "for path in PREPROCESSED_DATA_PATHS:\n",
    "    df = pd.read_csv(path, index_col=0)\n",
    "    df.timestamp = pd.to_datetime(df.timestamp)\n",
    "    df.sort_values(by='timestamp', inplace=True)\n",
    "    if USE_LOG:\n",
    "        df.avg_price = np.log(df.avg_price)\n",
    "    start_date = df.timestamp[0]\n",
    "    end_date = df.timestamp[len(df)-1]-dt.timedelta(INPUT_WINDOW_SIZE)\n",
    "    for i in range(0, df.shape[0], FREQ):\n",
    "        if i > df.shape[0]-INPUT_WINDOW_SIZE-OUTPUT_WINDOW_SIZE:\n",
    "            break      \n",
    "        input_period = df.loc[i:i+INPUT_WINDOW_SIZE-1, :].reset_index().avg_price\n",
    "        output_period = df.loc[i+INPUT_WINDOW_SIZE: i+INPUT_WINDOW_SIZE+OUTPUT_WINDOW_SIZE-1, :].reset_index().avg_price        \n",
    "        input_period_min = input_period.min()\n",
    "        input_period_max = input_period.max()\n",
    "        input_period = (input_period - input_period_min) / (input_period.max()-input_period_min)\n",
    "        output_period = (output_period - input_period_min) / (input_period_max-input_period_min)\n",
    "        \n",
    "        # zrobić dicta z nazwą spółki (z pliku) numer sampla (i) i wartości tych do sklaowania min i max + info czy było logarytmizowane\n",
    "        \n",
    "#         assert input_period.isna().sum()==0, 'nans detected'\n",
    "#         assert output_period.isna().sum()==0, 'nans detected'\n",
    "#         if len(input_period)!=90 or len(output_period)!=OUTPUT_WINDOW_SIZE:\n",
    "#             break\n",
    "        X_df = X_df.append(input_period)\n",
    "        Y_df = Y_df.append(output_period)\n",
    "        \n",
    "X_df = X_df.reset_index(drop=True)\n",
    "Y_df = Y_df.reset_index(drop=True)"
   ]
  },
  {
   "cell_type": "code",
   "execution_count": 100,
   "id": "43f135ca",
   "metadata": {
    "tags": []
   },
   "outputs": [],
   "source": [
    "import pickle \n",
    "\n",
    "def pickle_array(array, filename):\n",
    "    with open(filename,'wb') as f: pickle.dump(array, f)\n",
    "\n",
    "def unpickle_array(filename):\n",
    "    with open(filename,'rb') as f: array = pickle.load(f)\n",
    "    return array"
   ]
  },
  {
   "cell_type": "code",
   "execution_count": 29,
   "id": "d7007b24",
   "metadata": {},
   "outputs": [],
   "source": [
    "# pickle_array(X_df, f'./pickles/X_df_IN_{INPUT_WINDOW_SIZE}_OUT_{OUTPUT_WINDOW_SIZE}.pickle')\n",
    "# pickle_array(Y_df, f'./pickles/Y_df_IN_{INPUT_WINDOW_SIZE}_OUT_{OUTPUT_WINDOW_SIZE}.pickle')\n",
    "X = unpickle_array(f'./samples/X_input_window_size_90_output_window_size_2_freq_30_output_averaging_False_use_log_False_.pickle')\n",
    "Y = unpickle_array(f'./samples/Y_input_window_size_90_output_window_size_2_freq_30_output_averaging_False_use_log_False_.pickle')\n",
    "\n",
    "# 3 miesiące do przodu.\n",
    "#    - Y: 3 kolejne wartości miesięczne (uśrednione z dziennych)"
   ]
  },
  {
   "cell_type": "code",
   "execution_count": 105,
   "id": "065d84a0",
   "metadata": {},
   "outputs": [
    {
     "data": {
      "text/plain": [
       "((11072, 90), (11072, 30), 0, 0)"
      ]
     },
     "execution_count": 105,
     "metadata": {},
     "output_type": "execute_result"
    }
   ],
   "source": [
    "X.shape, Y.shape, np.isnan(X).sum(), np.isnan(Y).sum()"
   ]
  },
  {
   "cell_type": "markdown",
   "id": "ce81dd66",
   "metadata": {},
   "source": [
    "# Model"
   ]
  },
  {
   "cell_type": "code",
   "execution_count": 31,
   "id": "9d773b81",
   "metadata": {
    "tags": []
   },
   "outputs": [
    {
     "data": {
      "text/plain": [
       "<AxesSubplot:ylabel='Frequency'>"
      ]
     },
     "execution_count": 31,
     "metadata": {},
     "output_type": "execute_result"
    },
    {
     "data": {
      "image/png": "[encoded data removed]",
      "text/plain": [
       "<Figure size 432x288 with 1 Axes>"
      ]
     },
     "metadata": {
      "needs_background": "light"
     },
     "output_type": "display_data"
    }
   ],
   "source": [
    "pd.DataFrame(Y).plot.hist(bins=100);"
   ]
  },
  {
   "cell_type": "code",
   "execution_count": 102,
   "id": "8966a629",
   "metadata": {},
   "outputs": [],
   "source": [
    "X = unpickle_array(\"samples\\X_input_window_size_90_output_window_size_30_freq_30_input_averaging_False_output_averaging_False_use_log_True.pickle\")\n",
    "Y = unpickle_array(\"samples\\Y_input_window_size_90_output_window_size_30_freq_30_input_averaging_False_output_averaging_False_use_log_True.pickle\")"
   ]
  },
  {
   "cell_type": "code",
   "execution_count": 109,
   "id": "140515b3",
   "metadata": {},
   "outputs": [
    {
     "data": {
      "text/plain": [
       "array([[ 0.11550062,  0.14318773,  0.24311194, ...,  0.86528221,\n",
       "         0.86013533,  0.80359373],\n",
       "       [ 0.86935702,  0.98061016,  0.96524268, ...,  0.644529  ,\n",
       "         0.87603607,  0.81924345],\n",
       "       [ 1.09804624,  1.34890156,  1.58901483, ...,  1.99757884,\n",
       "         1.98487421,  1.97214072],\n",
       "       ...,\n",
       "       [ 0.60188013,  0.63898191,  0.60808608, ...,  0.61400262,\n",
       "         0.58819621,  0.56188754],\n",
       "       [ 0.31093387,  0.19567465,  0.25404143, ..., -0.51615667,\n",
       "        -0.60005693, -0.64908155],\n",
       "       [ 0.07406308,  0.0595432 ,  0.04494515, ..., -0.06589362,\n",
       "        -0.10755963, -0.08995513]])"
      ]
     },
     "execution_count": 109,
     "metadata": {},
     "output_type": "execute_result"
    }
   ],
   "source": [
    "Y"
   ]
  },
  {
   "cell_type": "code",
   "execution_count": 125,
   "id": "78ffb697",
   "metadata": {},
   "outputs": [
    {
     "data": {
      "text/plain": [
       "array([[1.        , 0.91556897, 0.73101327, ..., 0.24688419, 0.20841667,\n",
       "        0.16966585],\n",
       "       [0.93575091, 0.92092075, 0.90605049, ..., 0.90434476, 0.89896553,\n",
       "        0.8398714 ],\n",
       "       [0.60287108, 0.5491833 , 0.42290379, ..., 0.65727342, 0.89335814,\n",
       "        0.83544254],\n",
       "       ...,\n",
       "       [0.34011231, 0.3319215 , 0.44024763, ..., 0.69263981, 0.66269154,\n",
       "        0.63244037],\n",
       "       [0.03686376, 0.        , 0.00558683, ..., 0.42292699, 0.38434595,\n",
       "        0.34501401],\n",
       "       [0.81073444, 0.79728511, 0.78376874, ..., 0.0806054 , 0.02972844,\n",
       "        0.        ]])"
      ]
     },
     "execution_count": 125,
     "metadata": {},
     "output_type": "execute_result"
    }
   ],
   "source": [
    "X"
   ]
  },
  {
   "cell_type": "code",
   "execution_count": 126,
   "id": "a9f03f26",
   "metadata": {},
   "outputs": [
    {
     "data": {
      "text/plain": [
       "array([5054.76867624, 5078.58118777, 5102.91841254, 5093.78760264,\n",
       "       5084.71776433, 5088.01071847, 5145.73371217, 5177.33360084,\n",
       "       5169.50011377, 5180.44717126, 5246.96076846, 5263.44484974,\n",
       "       5266.74812919, 5299.38399425, 5321.93998273, 5322.11261525,\n",
       "       5337.16207301, 5359.85906607, 5372.47242221, 5389.71811956,\n",
       "       5437.2161066 , 5445.74461876, 5451.77832518, 5481.76950304,\n",
       "       5501.45471792, 5510.56249439, 5518.34625956, 5548.28267167,\n",
       "       5571.90022247, 5588.14842273, 5581.05855583, 5600.48427836,\n",
       "       5624.43894343, 5609.42654611, 5598.71104898, 5594.77362877,\n",
       "       5651.93553662, 5682.75743441, 5666.55942913, 5675.5796713 ,\n",
       "       5741.31696018, 5749.05866082, 5748.8092053 , 5782.79168607,\n",
       "       5804.63839487, 5809.43622661, 5823.66194616, 5846.32232458,\n",
       "       5861.56300672, 5880.76249952, 5923.37076335, 5929.03998274,\n",
       "       5923.3949668 , 5949.71762425, 5960.64594265, 5964.3678854 ,\n",
       "       5961.37971094, 5983.25699999, 6000.06112507, 6018.84928626,\n",
       "       6007.34311042, 6023.40649868, 6052.9363913 , 6040.61782801,\n",
       "       6029.54767661, 6027.37488928, 6082.20630816, 6114.38755013,\n",
       "       6097.96994201, 6108.33048946, 6170.06171217, 6175.36951   ,\n",
       "       6170.41172387, 6199.96824654, 6228.01509283, 6233.94738159,\n",
       "       6248.7241891 , 6272.36850013, 6278.19264307, 6297.58555413,\n",
       "       6334.76598443, 6346.3302014 , 6338.73701284, 6362.26244366,\n",
       "       6369.61042009, 6371.53454439, 6360.18154745, 6377.24319725,\n",
       "       6391.85185159, 6407.48496276])"
      ]
     },
     "execution_count": 126,
     "metadata": {},
     "output_type": "execute_result"
    }
   ],
   "source": [
    "sum(X)"
   ]
  },
  {
   "cell_type": "code",
   "execution_count": 132,
   "id": "7374bce4",
   "metadata": {},
   "outputs": [
    {
     "data": {
      "image/png": "[encoded data removed]",
      "text/plain": [
       "<Figure size 432x288 with 1 Axes>"
      ]
     },
     "metadata": {
      "needs_background": "light"
     },
     "output_type": "display_data"
    }
   ],
   "source": [
    "from matplotlib import pyplot as plt \n",
    "import numpy as np  \n",
    "   \n",
    "#a = np.array([22,87,5,43,56,73,55,54,11,20,51,5,79,31,27]) \n",
    "#plt.hist(a, bins = [0,20,40,60,80,100]) \n",
    "plt.hist(sum(X), bins=100)\n",
    "plt.title(\"histogram\") \n",
    "plt.show()"
   ]
  },
  {
   "cell_type": "code",
   "execution_count": 108,
   "id": "ad59c6a4",
   "metadata": {},
   "outputs": [
    {
     "data": {
      "image/png": "[encoded data removed]",
      "text/plain": [
       "<Figure size 432x288 with 1 Axes>"
      ]
     },
     "metadata": {
      "needs_background": "light"
     },
     "output_type": "display_data"
    }
   ],
   "source": [
    "import pandas as pd\n",
    "pd.DataFrame(Y).plot.hist();"
   ]
  },
  {
   "cell_type": "code",
   "execution_count": 6,
   "id": "acb7cde5",
   "metadata": {},
   "outputs": [
    {
     "data": {
      "image/png": "[encoded data removed]",
      "text/plain": [
       "<Figure size 432x288 with 1 Axes>"
      ]
     },
     "metadata": {
      "needs_background": "light"
     },
     "output_type": "display_data"
    }
   ],
   "source": [
    "pd.DataFrame(X).plot.hist(bins=100);"
   ]
  },
  {
   "cell_type": "markdown",
   "id": "a6cec8f9",
   "metadata": {},
   "source": [
    "# PROBLEMY\n",
    "- przewidzenie 3 miesięcy do przodu (3 liczby - bo uśredniamy)\n",
    "- przewidzenie 1 miesiąca w przód (1 liczba - bo uśredniamy)\n",
    "- przewidzenie 1 miesiąca w przód (30 liczb - bo dzienne)\n",
    "    \n",
    "# Scenariusze do eksperyemntów\n",
    "    \n",
    "- Naural Network\n",
    "    - Dane\n",
    "        - input window size\n",
    "        - output window size (PROBLEM)\n",
    "        - averaging - najs miesięczne z ARIMY to miesięczne uśrednione dla LSTM jakoś tak (PROBLEM)\n",
    "        - user log\n",
    "    - Architektura\n",
    "        - LSTM + Dense\n",
    "        - LSTM x2 + Dense\n",
    "        - LSTM x2\n",
    "        - LSTM x3\n",
    "        - GRU + Dense\n",
    "        - GRU x2 + Dense\n",
    "        - GRU x2\n",
    "        - GRU x3\n",
    "    - Hiperparametry\n",
    "        - optimizer\n",
    "        - activation\n",
    "        - batchsize\n",
    "        - units\n",
    "        \n",
    "- ARIMA\n",
    "    - Dane\n",
    "        - miesięcznie albo dziennie (granularność) windows shift\n",
    "        - output window size (PROBLEM)\n",
    "        - averaging ???? (PROBLEM)\n",
    "        - user log ??UTY\n",
    "    - Architektura\n",
    "        - p\n",
    "        - q\n",
    "    - Hiperparametry\n",
    "        - use log\n",
    "        - PERIOD\n",
    "        - P_VALUE_PERCENT\n",
    "        - REGRESSION_TYPE_FOR_DF_TEST\n",
    "        - AUTOLAG_FOR_DF_TEST\n",
    "        - LJUNGBOX_BOXPIERCE_LAGS\n",
    "        - PERIODS_TO_FORECAST"
   ]
  },
  {
   "cell_type": "code",
   "execution_count": 35,
   "id": "392fe8e6",
   "metadata": {},
   "outputs": [
    {
     "name": "stdout",
     "output_type": "stream",
     "text": [
      "Model: \"sequential_1\"\n",
      "_________________________________________________________________\n",
      "Layer (type)                 Output Shape              Param #   \n",
      "=================================================================\n",
      "gru_16 (GRU)                 (None, 90, 30)            2970      \n",
      "_________________________________________________________________\n",
      "gru_17 (GRU)                 (None, 2)                 204       \n",
      "=================================================================\n",
      "Total params: 3,174\n",
      "Trainable params: 3,174\n",
      "Non-trainable params: 0\n",
      "_________________________________________________________________\n",
      "None\n"
     ]
    }
   ],
   "source": [
    "from tensorflow.keras.models import Sequential\n",
    "from tensorflow.keras.layers import LSTM, GRU, Dense, Dropout\n",
    "\n",
    "model = Sequential() \n",
    "optimizer='adam'\n",
    "loss='mse'\n",
    "N_STEPS = INPUT_WINDOW_SIZE\n",
    "N_FEATURES = 1\n",
    "\n",
    "# jak OUTPUT AVERAGING TRUE TO TRZEBA POKOMBINOWAĆ\n",
    "OUTPUT_SIZE = OUTPUT_WINDOW_SIZE if not OUTPUT_AVERAGING else 1\n",
    "\n",
    "X =  X.reshape((X.shape[0], X.shape[1], N_FEATURES))\n",
    "\n",
    "\n",
    "\n",
    "# model.add(LSTM(50, input_shape=(N_STEPS, N_FEATURES), return_sequences=True))\n",
    "# model.add(LSTM(30))\n",
    "# model.add(Dense(OUTPUT_SIZE))\n",
    "\n",
    "model.add(GRU(30, input_shape=(N_STEPS, N_FEATURES), return_sequences=True))\n",
    "# model.add(GRU(30, return_sequences=True))\n",
    "model.add(GRU(2))\n",
    "\n",
    "model.compile(optimizer=optimizer, loss=loss) \n",
    "\n",
    "print(model.summary())"
   ]
  },
  {
   "cell_type": "code",
   "execution_count": 36,
   "id": "26344574",
   "metadata": {
    "tags": []
   },
   "outputs": [],
   "source": [
    "# from tensorflow.keras.utils import plot_model\n",
    "# params = '30, 10, Dense'\n",
    "# plot_model(\n",
    "#     model, to_file=f'./images/models/model{params}.png', show_shapes=True, show_dtype=False,\n",
    "#     show_layer_names=False, rankdir='TB', expand_nested=False, dpi=96,\n",
    "# )"
   ]
  },
  {
   "cell_type": "code",
   "execution_count": 37,
   "id": "31fc871a",
   "metadata": {
    "tags": []
   },
   "outputs": [
    {
     "name": "stdout",
     "output_type": "stream",
     "text": [
      "Epoch 1/10\n",
      "47/47 [==============================] - 6s 30ms/step - loss: 0.4504 - val_loss: 0.0708\n",
      "Epoch 2/10\n",
      "47/47 [==============================] - 1s 13ms/step - loss: 0.0643 - val_loss: 0.0451\n",
      "Epoch 3/10\n",
      "47/47 [==============================] - 1s 13ms/step - loss: 0.0361 - val_loss: 0.0302\n",
      "Epoch 4/10\n",
      "47/47 [==============================] - 1s 13ms/step - loss: 0.0252 - val_loss: 0.0265\n",
      "Epoch 5/10\n",
      "47/47 [==============================] - 1s 13ms/step - loss: 0.0228 - val_loss: 0.0245\n",
      "Epoch 6/10\n",
      "47/47 [==============================] - 1s 12ms/step - loss: 0.0219 - val_loss: 0.0233\n",
      "Epoch 7/10\n",
      "47/47 [==============================] - 1s 12ms/step - loss: 0.0201 - val_loss: 0.0223\n",
      "Epoch 8/10\n",
      "47/47 [==============================] - 1s 13ms/step - loss: 0.0199 - val_loss: 0.0212\n",
      "Epoch 9/10\n",
      "47/47 [==============================] - 1s 13ms/step - loss: 0.0194 - val_loss: 0.0198\n",
      "Epoch 10/10\n",
      "47/47 [==============================] - 1s 13ms/step - loss: 0.0177 - val_loss: 0.0190\n"
     ]
    }
   ],
   "source": [
    "batch_size = 128\n",
    "validation_split=0.25\n",
    "results = model.fit(X, Y, epochs=10, batch_size=batch_size, validation_split=validation_split)"
   ]
  },
  {
   "cell_type": "code",
   "execution_count": 64,
   "id": "cd224215",
   "metadata": {},
   "outputs": [
    {
     "data": {
      "text/plain": [
       "{'_self_setattr_tracking': True,\n",
       " '_instrumented_keras_api': True,\n",
       " '_instrumented_keras_layer_class': True,\n",
       " '_instrumented_keras_model_class': False,\n",
       " '_trainable': True,\n",
       " '_stateful': False,\n",
       " 'built': False,\n",
       " '_build_input_shape': None,\n",
       " '_saved_model_inputs_spec': None,\n",
       " '_input_spec': InputSpec(min_ndim=2),\n",
       " '_name': 'dense_1',\n",
       " '_activity_regularizer': None,\n",
       " '_trainable_weights': [],\n",
       " '_non_trainable_weights': [],\n",
       " '_updates': [],\n",
       " '_thread_local': <_thread._local at 0x25fe0030588>,\n",
       " '_callable_losses': [],\n",
       " '_losses': [],\n",
       " '_metrics': [],\n",
       " '_metrics_lock': <unlocked _thread.lock object at 0x0000025FDCB552A0>,\n",
       " '_dtype_policy': <Policy \"float32\">,\n",
       " '_compute_dtype_object': tf.float32,\n",
       " '_autocast': True,\n",
       " '_layers': [],\n",
       " '_inbound_nodes_value': [],\n",
       " '_outbound_nodes_value': [],\n",
       " '_expects_training_arg': False,\n",
       " '_default_training_arg': None,\n",
       " '_expects_mask_arg': False,\n",
       " '_dynamic': False,\n",
       " '_initial_weights': None,\n",
       " '_auto_track_sub_layers': True,\n",
       " '_preserve_input_structure_in_config': False,\n",
       " '_obj_reference_counts_dict': ObjectIdentityDictionary({<_ObjectIdentityWrapper wrapping 2222>: 1, <_ObjectIdentityWrapper wrapping <function linear at 0x0000025E9B02C438>>: 1, <_ObjectIdentityWrapper wrapping True>: 2, <_ObjectIdentityWrapper wrapping <tensorflow.python.keras.initializers.initializers_v2.GlorotUniform object at 0x0000025FDFFB7C88>>: 1, <_ObjectIdentityWrapper wrapping <tensorflow.python.keras.initializers.initializers_v2.Zeros object at 0x0000025FDFFBA0C8>>: 1}),\n",
       " 'units': 2222,\n",
       " 'activation': <function tensorflow.python.keras.activations.linear(x)>,\n",
       " 'use_bias': True,\n",
       " 'kernel_initializer': <tensorflow.python.keras.initializers.initializers_v2.GlorotUniform at 0x25fdffb7c88>,\n",
       " 'bias_initializer': <tensorflow.python.keras.initializers.initializers_v2.Zeros at 0x25fdffba0c8>,\n",
       " 'kernel_regularizer': None,\n",
       " 'bias_regularizer': None,\n",
       " 'kernel_constraint': None,\n",
       " 'bias_constraint': None,\n",
       " '_supports_masking': True}"
      ]
     },
     "execution_count": 64,
     "metadata": {},
     "output_type": "execute_result"
    }
   ],
   "source": [
    "Dense(2222).__dict__"
   ]
  },
  {
   "cell_type": "code",
   "execution_count": 66,
   "id": "37b82690",
   "metadata": {},
   "outputs": [
    {
     "name": "stdout",
     "output_type": "stream",
     "text": [
      "0\n",
      "3\n",
      "1\n",
      "3\n",
      "2\n",
      "3\n"
     ]
    }
   ],
   "source": [
    "l = [1,2, 3]\n",
    "\n",
    "for i, v in enumerate(l):\n",
    "    print(i)\n",
    "    print(len(l))"
   ]
  },
  {
   "cell_type": "code",
   "execution_count": 271,
   "id": "4c24ea8e",
   "metadata": {
    "tags": []
   },
   "outputs": [],
   "source": [
    "def visualize_training_results(results):\n",
    "    history = results.history\n",
    "    plt.figure(figsize=(16,5))\n",
    "    plt.plot(history['val_loss'])\n",
    "    plt.plot(history['loss'])\n",
    "    plt.legend(['val_loss', 'loss'])\n",
    "    plt.title('Loss')\n",
    "    plt.xlabel('Epochs')\n",
    "    plt.ylabel('Loss')\n",
    "    plt.show()"
   ]
  },
  {
   "cell_type": "code",
   "execution_count": 322,
   "id": "296595a5",
   "metadata": {},
   "outputs": [
    {
     "data": {
      "image/png": "[encoded data removed]",
      "text/plain": [
       "<Figure size 1152x360 with 1 Axes>"
      ]
     },
     "metadata": {
      "needs_background": "light"
     },
     "output_type": "display_data"
    }
   ],
   "source": [
    "visualize_training_results(results)"
   ]
  },
  {
   "cell_type": "code",
   "execution_count": 326,
   "id": "900a159c",
   "metadata": {},
   "outputs": [
    {
     "data": {
      "image/png": "[encoded data removed]",
      "text/plain": [
       "<Figure size 1152x360 with 1 Axes>"
      ]
     },
     "metadata": {
      "needs_background": "light"
     },
     "output_type": "display_data"
    }
   ],
   "source": [
    "visualize_training_results(results)"
   ]
  },
  {
   "cell_type": "code",
   "execution_count": null,
   "id": "7f533cc1",
   "metadata": {},
   "outputs": [],
   "source": []
  }
 ],
 "metadata": {
  "kernelspec": {
   "display_name": "Python 3 (ipykernel)",
   "language": "python",
   "name": "python3"
  },
  "language_info": {
   "codemirror_mode": {
    "name": "ipython",
    "version": 3
   },
   "file_extension": ".py",
   "mimetype": "text/x-python",
   "name": "python",
   "nbconvert_exporter": "python",
   "pygments_lexer": "ipython3",
   "version": "3.9.13"
  }
 },
 "nbformat": 4,
 "nbformat_minor": 5
}
