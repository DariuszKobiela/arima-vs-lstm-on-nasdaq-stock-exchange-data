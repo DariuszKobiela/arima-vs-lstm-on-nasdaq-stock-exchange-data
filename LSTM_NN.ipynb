{
 "cells": [
  {
   "cell_type": "markdown",
   "metadata": {},
   "source": [
    "## Useful sources: \n",
    "- https://towardsdatascience.com/using-deep-learning-ai-to-predict-the-stock-market-9399cf15a312\n",
    "- https://github.com/marcosan93/Price-Forecaster\n",
    "- https://technical-analysis-library-in-python.readthedocs.io/en/latest/\n",
    "- https://towardsdatascience.com/technical-indicators-on-bitcoin-using-python-c392b4a33810"
   ]
  },
  {
   "cell_type": "code",
   "execution_count": 3,
   "metadata": {},
   "outputs": [],
   "source": [
    "#libraries\n",
    "import pandas as pd\n",
    "import matplotlib.pyplot as plt\n",
    "import numpy as np\n",
    "from datetime import timedelta\n",
    "from sklearn.preprocessing import RobustScaler\n",
    "plt.style.use(\"bmh\")"
   ]
  },
  {
   "cell_type": "code",
   "execution_count": 67,
   "metadata": {},
   "outputs": [],
   "source": [
    "import keras"
   ]
  },
  {
   "cell_type": "markdown",
   "metadata": {},
   "source": [
    "In future, to add features, TA (Technical analysis) library can be used:\n",
    "https://towardsdatascience.com/using-deep-learning-ai-to-predict-the-stock-market-9399cf15a312"
   ]
  },
  {
   "cell_type": "code",
   "execution_count": 68,
   "metadata": {},
   "outputs": [
    {
     "ename": "ModuleNotFoundError",
     "evalue": "No module named 'ta'",
     "output_type": "error",
     "traceback": [
      "\u001b[1;31m---------------------------------------------------------------------------\u001b[0m",
      "\u001b[1;31mModuleNotFoundError\u001b[0m                       Traceback (most recent call last)",
      "\u001b[1;32m<ipython-input-68-61ba6bfb8a95>\u001b[0m in \u001b[0;36m<module>\u001b[1;34m\u001b[0m\n\u001b[0;32m      1\u001b[0m \u001b[1;31m#https://towardsdatascience.com/using-deep-learning-ai-to-predict-the-stock-market-9399cf15a312\u001b[0m\u001b[1;33m\u001b[0m\u001b[1;33m\u001b[0m\u001b[1;33m\u001b[0m\u001b[0m\n\u001b[0;32m      2\u001b[0m \u001b[1;31m#Technical Analysis Library\u001b[0m\u001b[1;33m\u001b[0m\u001b[1;33m\u001b[0m\u001b[1;33m\u001b[0m\u001b[0m\n\u001b[1;32m----> 3\u001b[1;33m \u001b[1;32mimport\u001b[0m \u001b[0mta\u001b[0m\u001b[1;33m\u001b[0m\u001b[1;33m\u001b[0m\u001b[0m\n\u001b[0m",
      "\u001b[1;31mModuleNotFoundError\u001b[0m: No module named 'ta'"
     ]
    }
   ],
   "source": [
    "#https://towardsdatascience.com/using-deep-learning-ai-to-predict-the-stock-market-9399cf15a312\n",
    "#Technical Analysis Library\n",
    "import ta"
   ]
  },
  {
   "cell_type": "code",
   "execution_count": 12,
   "metadata": {},
   "outputs": [
    {
     "name": "stderr",
     "output_type": "stream",
     "text": [
      "Using TensorFlow backend.\n",
      "C:\\Users\\Darek_PC\\anaconda3\\lib\\site-packages\\tensorflow\\python\\framework\\dtypes.py:516: FutureWarning: Passing (type, 1) or '1type' as a synonym of type is deprecated; in a future version of numpy, it will be understood as (type, (1,)) / '(1,)type'.\n",
      "  _np_qint8 = np.dtype([(\"qint8\", np.int8, 1)])\n",
      "C:\\Users\\Darek_PC\\anaconda3\\lib\\site-packages\\tensorflow\\python\\framework\\dtypes.py:517: FutureWarning: Passing (type, 1) or '1type' as a synonym of type is deprecated; in a future version of numpy, it will be understood as (type, (1,)) / '(1,)type'.\n",
      "  _np_quint8 = np.dtype([(\"quint8\", np.uint8, 1)])\n",
      "C:\\Users\\Darek_PC\\anaconda3\\lib\\site-packages\\tensorflow\\python\\framework\\dtypes.py:518: FutureWarning: Passing (type, 1) or '1type' as a synonym of type is deprecated; in a future version of numpy, it will be understood as (type, (1,)) / '(1,)type'.\n",
      "  _np_qint16 = np.dtype([(\"qint16\", np.int16, 1)])\n",
      "C:\\Users\\Darek_PC\\anaconda3\\lib\\site-packages\\tensorflow\\python\\framework\\dtypes.py:519: FutureWarning: Passing (type, 1) or '1type' as a synonym of type is deprecated; in a future version of numpy, it will be understood as (type, (1,)) / '(1,)type'.\n",
      "  _np_quint16 = np.dtype([(\"quint16\", np.uint16, 1)])\n",
      "C:\\Users\\Darek_PC\\anaconda3\\lib\\site-packages\\tensorflow\\python\\framework\\dtypes.py:520: FutureWarning: Passing (type, 1) or '1type' as a synonym of type is deprecated; in a future version of numpy, it will be understood as (type, (1,)) / '(1,)type'.\n",
      "  _np_qint32 = np.dtype([(\"qint32\", np.int32, 1)])\n",
      "C:\\Users\\Darek_PC\\anaconda3\\lib\\site-packages\\tensorflow\\python\\framework\\dtypes.py:525: FutureWarning: Passing (type, 1) or '1type' as a synonym of type is deprecated; in a future version of numpy, it will be understood as (type, (1,)) / '(1,)type'.\n",
      "  np_resource = np.dtype([(\"resource\", np.ubyte, 1)])\n",
      "C:\\Users\\Darek_PC\\anaconda3\\lib\\site-packages\\tensorboard\\compat\\tensorflow_stub\\dtypes.py:541: FutureWarning: Passing (type, 1) or '1type' as a synonym of type is deprecated; in a future version of numpy, it will be understood as (type, (1,)) / '(1,)type'.\n",
      "  _np_qint8 = np.dtype([(\"qint8\", np.int8, 1)])\n",
      "C:\\Users\\Darek_PC\\anaconda3\\lib\\site-packages\\tensorboard\\compat\\tensorflow_stub\\dtypes.py:542: FutureWarning: Passing (type, 1) or '1type' as a synonym of type is deprecated; in a future version of numpy, it will be understood as (type, (1,)) / '(1,)type'.\n",
      "  _np_quint8 = np.dtype([(\"quint8\", np.uint8, 1)])\n",
      "C:\\Users\\Darek_PC\\anaconda3\\lib\\site-packages\\tensorboard\\compat\\tensorflow_stub\\dtypes.py:543: FutureWarning: Passing (type, 1) or '1type' as a synonym of type is deprecated; in a future version of numpy, it will be understood as (type, (1,)) / '(1,)type'.\n",
      "  _np_qint16 = np.dtype([(\"qint16\", np.int16, 1)])\n",
      "C:\\Users\\Darek_PC\\anaconda3\\lib\\site-packages\\tensorboard\\compat\\tensorflow_stub\\dtypes.py:544: FutureWarning: Passing (type, 1) or '1type' as a synonym of type is deprecated; in a future version of numpy, it will be understood as (type, (1,)) / '(1,)type'.\n",
      "  _np_quint16 = np.dtype([(\"quint16\", np.uint16, 1)])\n",
      "C:\\Users\\Darek_PC\\anaconda3\\lib\\site-packages\\tensorboard\\compat\\tensorflow_stub\\dtypes.py:545: FutureWarning: Passing (type, 1) or '1type' as a synonym of type is deprecated; in a future version of numpy, it will be understood as (type, (1,)) / '(1,)type'.\n",
      "  _np_qint32 = np.dtype([(\"qint32\", np.int32, 1)])\n",
      "C:\\Users\\Darek_PC\\anaconda3\\lib\\site-packages\\tensorboard\\compat\\tensorflow_stub\\dtypes.py:550: FutureWarning: Passing (type, 1) or '1type' as a synonym of type is deprecated; in a future version of numpy, it will be understood as (type, (1,)) / '(1,)type'.\n",
      "  np_resource = np.dtype([(\"resource\", np.ubyte, 1)])\n"
     ]
    }
   ],
   "source": [
    "#Neural Networks libraries\n",
    "from keras.models import Sequential\n",
    "from keras.layers import LSTM, Dense, Dropout"
   ]
  },
  {
   "cell_type": "markdown",
   "metadata": {},
   "source": [
    "## Load data and prepare it to further usage"
   ]
  },
  {
   "cell_type": "code",
   "execution_count": 15,
   "metadata": {},
   "outputs": [
    {
     "data": {
      "text/html": [
       "<div>\n",
       "<style scoped>\n",
       "    .dataframe tbody tr th:only-of-type {\n",
       "        vertical-align: middle;\n",
       "    }\n",
       "\n",
       "    .dataframe tbody tr th {\n",
       "        vertical-align: top;\n",
       "    }\n",
       "\n",
       "    .dataframe thead th {\n",
       "        text-align: right;\n",
       "    }\n",
       "</style>\n",
       "<table border=\"1\" class=\"dataframe\">\n",
       "  <thead>\n",
       "    <tr style=\"text-align: right;\">\n",
       "      <th></th>\n",
       "      <th>price</th>\n",
       "    </tr>\n",
       "    <tr>\n",
       "      <th>timestamp</th>\n",
       "      <th></th>\n",
       "    </tr>\n",
       "  </thead>\n",
       "  <tbody>\n",
       "    <tr>\n",
       "      <th>2008-10-27</th>\n",
       "      <td>543.571429</td>\n",
       "    </tr>\n",
       "    <tr>\n",
       "      <th>2008-10-28</th>\n",
       "      <td>816.965172</td>\n",
       "    </tr>\n",
       "    <tr>\n",
       "      <th>2008-10-29</th>\n",
       "      <td>715.000000</td>\n",
       "    </tr>\n",
       "    <tr>\n",
       "      <th>2008-10-30</th>\n",
       "      <td>715.500000</td>\n",
       "    </tr>\n",
       "    <tr>\n",
       "      <th>2008-10-31</th>\n",
       "      <td>716.000000</td>\n",
       "    </tr>\n",
       "    <tr>\n",
       "      <th>...</th>\n",
       "      <td>...</td>\n",
       "    </tr>\n",
       "    <tr>\n",
       "      <th>2021-07-25</th>\n",
       "      <td>328.054631</td>\n",
       "    </tr>\n",
       "    <tr>\n",
       "      <th>2021-07-26</th>\n",
       "      <td>328.521387</td>\n",
       "    </tr>\n",
       "    <tr>\n",
       "      <th>2021-07-27</th>\n",
       "      <td>330.556857</td>\n",
       "    </tr>\n",
       "    <tr>\n",
       "      <th>2021-07-28</th>\n",
       "      <td>329.834200</td>\n",
       "    </tr>\n",
       "    <tr>\n",
       "      <th>2021-07-29</th>\n",
       "      <td>336.315487</td>\n",
       "    </tr>\n",
       "  </tbody>\n",
       "</table>\n",
       "<p>4659 rows × 1 columns</p>\n",
       "</div>"
      ],
      "text/plain": [
       "                 price\n",
       "timestamp             \n",
       "2008-10-27  543.571429\n",
       "2008-10-28  816.965172\n",
       "2008-10-29  715.000000\n",
       "2008-10-30  715.500000\n",
       "2008-10-31  716.000000\n",
       "...                ...\n",
       "2021-07-25  328.054631\n",
       "2021-07-26  328.521387\n",
       "2021-07-27  330.556857\n",
       "2021-07-28  329.834200\n",
       "2021-07-29  336.315487\n",
       "\n",
       "[4659 rows x 1 columns]"
      ]
     },
     "execution_count": 15,
     "metadata": {},
     "output_type": "execute_result"
    }
   ],
   "source": [
    "df = pd.read_csv('FINALDATAdaily.csv', \n",
    "                 index_col='timestamp',                  \n",
    "                 dtype={'price': 'float64'})\n",
    "df.index = pd.to_datetime(df.index)\n",
    "df.sort_index(axis=0, inplace=True)\n",
    "df"
   ]
  },
  {
   "cell_type": "markdown",
   "metadata": {},
   "source": [
    "## Preprocess data - normalize and scale it"
   ]
  },
  {
   "cell_type": "code",
   "execution_count": 16,
   "metadata": {},
   "outputs": [
    {
     "data": {
      "text/plain": [
       "array([[5.40596401],\n",
       "       [9.38596922],\n",
       "       [7.90158296],\n",
       "       ...,\n",
       "       [2.30494534],\n",
       "       [2.29442506],\n",
       "       [2.38877819]])"
      ]
     },
     "execution_count": 16,
     "metadata": {},
     "output_type": "execute_result"
    }
   ],
   "source": [
    "scaler = RobustScaler()\n",
    "\n",
    "scaler.fit_transform(df)"
   ]
  },
  {
   "cell_type": "code",
   "execution_count": 28,
   "metadata": {},
   "outputs": [
    {
     "data": {
      "text/html": [
       "<div>\n",
       "<style scoped>\n",
       "    .dataframe tbody tr th:only-of-type {\n",
       "        vertical-align: middle;\n",
       "    }\n",
       "\n",
       "    .dataframe tbody tr th {\n",
       "        vertical-align: top;\n",
       "    }\n",
       "\n",
       "    .dataframe thead th {\n",
       "        text-align: right;\n",
       "    }\n",
       "</style>\n",
       "<table border=\"1\" class=\"dataframe\">\n",
       "  <thead>\n",
       "    <tr style=\"text-align: right;\">\n",
       "      <th></th>\n",
       "      <th>price</th>\n",
       "    </tr>\n",
       "    <tr>\n",
       "      <th>timestamp</th>\n",
       "      <th></th>\n",
       "    </tr>\n",
       "  </thead>\n",
       "  <tbody>\n",
       "    <tr>\n",
       "      <th>2008-10-27</th>\n",
       "      <td>5.405964</td>\n",
       "    </tr>\n",
       "    <tr>\n",
       "      <th>2008-10-28</th>\n",
       "      <td>9.385969</td>\n",
       "    </tr>\n",
       "    <tr>\n",
       "      <th>2008-10-29</th>\n",
       "      <td>7.901583</td>\n",
       "    </tr>\n",
       "    <tr>\n",
       "      <th>2008-10-30</th>\n",
       "      <td>7.908862</td>\n",
       "    </tr>\n",
       "    <tr>\n",
       "      <th>2008-10-31</th>\n",
       "      <td>7.916141</td>\n",
       "    </tr>\n",
       "    <tr>\n",
       "      <th>...</th>\n",
       "      <td>...</td>\n",
       "    </tr>\n",
       "    <tr>\n",
       "      <th>2021-07-25</th>\n",
       "      <td>2.268518</td>\n",
       "    </tr>\n",
       "    <tr>\n",
       "      <th>2021-07-26</th>\n",
       "      <td>2.275313</td>\n",
       "    </tr>\n",
       "    <tr>\n",
       "      <th>2021-07-27</th>\n",
       "      <td>2.304945</td>\n",
       "    </tr>\n",
       "    <tr>\n",
       "      <th>2021-07-28</th>\n",
       "      <td>2.294425</td>\n",
       "    </tr>\n",
       "    <tr>\n",
       "      <th>2021-07-29</th>\n",
       "      <td>2.388778</td>\n",
       "    </tr>\n",
       "  </tbody>\n",
       "</table>\n",
       "<p>4659 rows × 1 columns</p>\n",
       "</div>"
      ],
      "text/plain": [
       "               price\n",
       "timestamp           \n",
       "2008-10-27  5.405964\n",
       "2008-10-28  9.385969\n",
       "2008-10-29  7.901583\n",
       "2008-10-30  7.908862\n",
       "2008-10-31  7.916141\n",
       "...              ...\n",
       "2021-07-25  2.268518\n",
       "2021-07-26  2.275313\n",
       "2021-07-27  2.304945\n",
       "2021-07-28  2.294425\n",
       "2021-07-29  2.388778\n",
       "\n",
       "[4659 rows x 1 columns]"
      ]
     },
     "execution_count": 28,
     "metadata": {},
     "output_type": "execute_result"
    }
   ],
   "source": [
    "df = pd.DataFrame(scaler.fit_transform(df), columns = df.columns, index=df.index)\n",
    "df"
   ]
  },
  {
   "cell_type": "code",
   "execution_count": 90,
   "metadata": {},
   "outputs": [
    {
     "data": {
      "text/plain": [
       "RobustScaler()"
      ]
     },
     "execution_count": 90,
     "metadata": {},
     "output_type": "execute_result"
    }
   ],
   "source": [
    "# Scale fitting the close prices separately for inverse_transformations purposes later\n",
    "close_scaler = RobustScaler()\n",
    "close_scaler.fit(df[['price']])"
   ]
  },
  {
   "cell_type": "markdown",
   "metadata": {},
   "source": [
    "## Functions to be used"
   ]
  },
  {
   "cell_type": "code",
   "execution_count": 107,
   "metadata": {},
   "outputs": [],
   "source": [
    "def val_mse(df1, df2):\n",
    "    #calculate mean square error between two dataframes\n",
    "    df = df1.copy() #??? WHY TO CREATE A COPY?\n",
    "    df['price2'] = df2.price #add new column with the price from the second dataframe\n",
    "    df['diff'] = df.price - df.price2 #add new column with difference between prices\n",
    "    mse = (df[['diff']] ** 2).mean() #calculate MSE\n",
    "    return mse"
   ]
  },
  {
   "cell_type": "code",
   "execution_count": 58,
   "metadata": {},
   "outputs": [],
   "source": [
    "def split_sequence(sequence, n_steps_in, n_steps_out, window):\n",
    "    X, y = [], [] #list for both variables\n",
    "    for i in range(0, len(seq), window):\n",
    "        # Finding the end of the current sequence\n",
    "        end = i + n_steps_in\n",
    "        #The end of period to predict\n",
    "        out_end = end + n_steps_out\n",
    "\n",
    "        # Breaking out of the loop if we have exceeded the dataset's length\n",
    "        if out_end > len(seq):\n",
    "            break\n",
    "\n",
    "        # Splitting the sequences into: x = past prices and indicators, y = prices ahead\n",
    "        seq_x, seq_y = seq[i:end, :], seq[end:out_end, 0]\n",
    "\n",
    "        X.append(seq_x)\n",
    "        y.append(seq_y)\n",
    "\n",
    "    return np.array(X), np.array(y)"
   ]
  },
  {
   "cell_type": "code",
   "execution_count": 81,
   "metadata": {},
   "outputs": [],
   "source": [
    "def visualize_training_results(results):\n",
    "    history = results.history\n",
    "    plt.figure(figsize=(16,5))\n",
    "    plt.plot(history['val_loss'])\n",
    "    plt.plot(history['loss'])\n",
    "    plt.legend(['val_loss', 'loss'])\n",
    "    plt.title('Loss')\n",
    "    plt.xlabel('Epochs')\n",
    "    plt.ylabel('Loss')\n",
    "    plt.show()\n",
    "    \n",
    "    plt.figure(figsize=(16,5))\n",
    "    plt.plot(history['val_accuracy'])\n",
    "    plt.plot(history['accuracy'])\n",
    "    plt.legend(['val_accuracy', 'accuracy'])\n",
    "    plt.title('Accuracy')\n",
    "    plt.xlabel('Epochs')\n",
    "    plt.ylabel('Accuracy')\n",
    "    plt.show()"
   ]
  },
  {
   "cell_type": "code",
   "execution_count": 103,
   "metadata": {},
   "outputs": [],
   "source": [
    "def validater(n_in, n_out):\n",
    "    predictions = pd.DataFrame(index=df.index, columns=[df.columns[0]])\n",
    "    \n",
    "    for i in range(n_in, len(df)-n_in, n_out):\n",
    "        x = df[-i - n_in: -i] ##?? Co to za konstrukcja?\n",
    "        # Predicting using rolling intervals\n",
    "        yhat = model.predict(np.array(x).reshape(1, n_in, n_features))\n",
    "\n",
    "        # Transforming values back to their normal prices\n",
    "        yhat = close_scaler.inverse_transform(yhat)[0]\n",
    "\n",
    "        # DF to store the values and append later, frequency uses every days\n",
    "        pred_df = pd.DataFrame(yhat, \n",
    "                               index=pd.date_range(start=x.index[-1], \n",
    "                                                   periods=len(yhat), \n",
    "                                                   freq=\"D\"),\n",
    "                               columns=[x.columns[0]])\n",
    "\n",
    "        # Updating the predictions DF\n",
    "        predictions.update(pred_df)\n",
    "        \n",
    "    return predictions"
   ]
  },
  {
   "cell_type": "code",
   "execution_count": 100,
   "metadata": {},
   "outputs": [
    {
     "data": {
      "text/html": [
       "<div>\n",
       "<style scoped>\n",
       "    .dataframe tbody tr th:only-of-type {\n",
       "        vertical-align: middle;\n",
       "    }\n",
       "\n",
       "    .dataframe tbody tr th {\n",
       "        vertical-align: top;\n",
       "    }\n",
       "\n",
       "    .dataframe thead th {\n",
       "        text-align: right;\n",
       "    }\n",
       "</style>\n",
       "<table border=\"1\" class=\"dataframe\">\n",
       "  <thead>\n",
       "    <tr style=\"text-align: right;\">\n",
       "      <th></th>\n",
       "      <th>price</th>\n",
       "    </tr>\n",
       "    <tr>\n",
       "      <th>timestamp</th>\n",
       "      <th></th>\n",
       "    </tr>\n",
       "  </thead>\n",
       "  <tbody>\n",
       "    <tr>\n",
       "      <th>2008-11-05</th>\n",
       "      <td>4.637050</td>\n",
       "    </tr>\n",
       "    <tr>\n",
       "      <th>2008-11-06</th>\n",
       "      <td>5.025938</td>\n",
       "    </tr>\n",
       "    <tr>\n",
       "      <th>2008-11-07</th>\n",
       "      <td>5.016313</td>\n",
       "    </tr>\n",
       "    <tr>\n",
       "      <th>2008-11-08</th>\n",
       "      <td>5.006689</td>\n",
       "    </tr>\n",
       "    <tr>\n",
       "      <th>2008-11-09</th>\n",
       "      <td>4.997064</td>\n",
       "    </tr>\n",
       "    <tr>\n",
       "      <th>...</th>\n",
       "      <td>...</td>\n",
       "    </tr>\n",
       "    <tr>\n",
       "      <th>2009-01-29</th>\n",
       "      <td>2.397099</td>\n",
       "    </tr>\n",
       "    <tr>\n",
       "      <th>2009-01-30</th>\n",
       "      <td>2.409074</td>\n",
       "    </tr>\n",
       "    <tr>\n",
       "      <th>2009-01-31</th>\n",
       "      <td>2.421049</td>\n",
       "    </tr>\n",
       "    <tr>\n",
       "      <th>2009-02-01</th>\n",
       "      <td>2.433024</td>\n",
       "    </tr>\n",
       "    <tr>\n",
       "      <th>2009-02-02</th>\n",
       "      <td>2.444999</td>\n",
       "    </tr>\n",
       "  </tbody>\n",
       "</table>\n",
       "<p>90 rows × 1 columns</p>\n",
       "</div>"
      ],
      "text/plain": [
       "               price\n",
       "timestamp           \n",
       "2008-11-05  4.637050\n",
       "2008-11-06  5.025938\n",
       "2008-11-07  5.016313\n",
       "2008-11-08  5.006689\n",
       "2008-11-09  4.997064\n",
       "...              ...\n",
       "2009-01-29  2.397099\n",
       "2009-01-30  2.409074\n",
       "2009-01-31  2.421049\n",
       "2009-02-01  2.433024\n",
       "2009-02-02  2.444999\n",
       "\n",
       "[90 rows x 1 columns]"
      ]
     },
     "execution_count": 100,
     "metadata": {},
     "output_type": "execute_result"
    }
   ],
   "source": [
    "x = df[-i - n_in: -i]\n",
    "x"
   ]
  },
  {
   "cell_type": "code",
   "execution_count": 98,
   "metadata": {},
   "outputs": [
    {
     "data": {
      "text/html": [
       "<div>\n",
       "<style scoped>\n",
       "    .dataframe tbody tr th:only-of-type {\n",
       "        vertical-align: middle;\n",
       "    }\n",
       "\n",
       "    .dataframe tbody tr th {\n",
       "        vertical-align: top;\n",
       "    }\n",
       "\n",
       "    .dataframe thead th {\n",
       "        text-align: right;\n",
       "    }\n",
       "</style>\n",
       "<table border=\"1\" class=\"dataframe\">\n",
       "  <thead>\n",
       "    <tr style=\"text-align: right;\">\n",
       "      <th></th>\n",
       "      <th>price</th>\n",
       "    </tr>\n",
       "    <tr>\n",
       "      <th>timestamp</th>\n",
       "      <th></th>\n",
       "    </tr>\n",
       "  </thead>\n",
       "  <tbody>\n",
       "    <tr>\n",
       "      <th>2008-10-27</th>\n",
       "      <td>NaN</td>\n",
       "    </tr>\n",
       "    <tr>\n",
       "      <th>2008-10-28</th>\n",
       "      <td>NaN</td>\n",
       "    </tr>\n",
       "    <tr>\n",
       "      <th>2008-10-29</th>\n",
       "      <td>NaN</td>\n",
       "    </tr>\n",
       "    <tr>\n",
       "      <th>2008-10-30</th>\n",
       "      <td>NaN</td>\n",
       "    </tr>\n",
       "    <tr>\n",
       "      <th>2008-10-31</th>\n",
       "      <td>NaN</td>\n",
       "    </tr>\n",
       "    <tr>\n",
       "      <th>...</th>\n",
       "      <td>...</td>\n",
       "    </tr>\n",
       "    <tr>\n",
       "      <th>2021-07-25</th>\n",
       "      <td>NaN</td>\n",
       "    </tr>\n",
       "    <tr>\n",
       "      <th>2021-07-26</th>\n",
       "      <td>NaN</td>\n",
       "    </tr>\n",
       "    <tr>\n",
       "      <th>2021-07-27</th>\n",
       "      <td>NaN</td>\n",
       "    </tr>\n",
       "    <tr>\n",
       "      <th>2021-07-28</th>\n",
       "      <td>NaN</td>\n",
       "    </tr>\n",
       "    <tr>\n",
       "      <th>2021-07-29</th>\n",
       "      <td>NaN</td>\n",
       "    </tr>\n",
       "  </tbody>\n",
       "</table>\n",
       "<p>4659 rows × 1 columns</p>\n",
       "</div>"
      ],
      "text/plain": [
       "           price\n",
       "timestamp       \n",
       "2008-10-27   NaN\n",
       "2008-10-28   NaN\n",
       "2008-10-29   NaN\n",
       "2008-10-30   NaN\n",
       "2008-10-31   NaN\n",
       "...          ...\n",
       "2021-07-25   NaN\n",
       "2021-07-26   NaN\n",
       "2021-07-27   NaN\n",
       "2021-07-28   NaN\n",
       "2021-07-29   NaN\n",
       "\n",
       "[4659 rows x 1 columns]"
      ]
     },
     "execution_count": 98,
     "metadata": {},
     "output_type": "execute_result"
    }
   ],
   "source": [
    "pd.DataFrame(index=df.index, columns=[df.columns[0]])"
   ]
  },
  {
   "cell_type": "markdown",
   "metadata": {},
   "source": [
    "## SANDBOX"
   ]
  },
  {
   "cell_type": "code",
   "execution_count": 44,
   "metadata": {},
   "outputs": [
    {
     "data": {
      "text/plain": [
       "array([2.31444337, 2.32878761, 2.30245482, 2.27612203, 2.24978924,\n",
       "       2.22345645, 2.22776926, 2.07465582, 2.33076077, 2.37423522,\n",
       "       2.41770967, 2.46118412, 2.41896248, 2.45423705, 2.37237894,\n",
       "       2.33336566, 2.27078243, 2.2081992 , 2.14561597, 2.19529257,\n",
       "       2.35449502, 2.32340757, 2.25492863, 2.26172356, 2.26851849,\n",
       "       2.27531342, 2.30494534, 2.29442506, 2.38877819])"
      ]
     },
     "execution_count": 44,
     "metadata": {},
     "output_type": "execute_result"
    }
   ],
   "source": [
    "seq[end:out_end, 0]"
   ]
  },
  {
   "cell_type": "code",
   "execution_count": 51,
   "metadata": {},
   "outputs": [
    {
     "data": {
      "text/plain": [
       "(array([[[5.40596401],\n",
       "         [9.38596922],\n",
       "         [7.90158296],\n",
       "         ...,\n",
       "         [2.39348345],\n",
       "         [2.39209027],\n",
       "         [2.3906971 ]],\n",
       " \n",
       "        [[3.15574759],\n",
       "         [2.96649649],\n",
       "         [2.77724539],\n",
       "         ...,\n",
       "         [1.74655476],\n",
       "         [1.76402409],\n",
       "         [1.78149343]],\n",
       " \n",
       "        [[2.58658546],\n",
       "         [2.57977618],\n",
       "         [2.5729669 ],\n",
       "         ...,\n",
       "         [2.27063474],\n",
       "         [2.28810407],\n",
       "         [2.3055734 ]],\n",
       " \n",
       "        ...,\n",
       " \n",
       "        [[0.67767438],\n",
       "         [0.64624452],\n",
       "         [0.61481467],\n",
       "         ...,\n",
       "         [2.58741081],\n",
       "         [2.48891287],\n",
       "         [2.4197145 ]],\n",
       " \n",
       "        [[0.87909973],\n",
       "         [0.89465884],\n",
       "         [0.85861638],\n",
       "         ...,\n",
       "         [2.20356419],\n",
       "         [2.2955617 ],\n",
       "         [2.35708076]],\n",
       " \n",
       "        [[2.80103353],\n",
       "         [2.48031387],\n",
       "         [2.26520448],\n",
       "         ...,\n",
       "         [2.43631969],\n",
       "         [2.48931298],\n",
       "         [2.54230628]]]),\n",
       " array([[2.38930392, 2.38791074, 2.38651756, ..., 1.74655476, 1.76402409,\n",
       "         1.78149343],\n",
       "        [1.79896276, 1.81643209, 1.83390142, ..., 2.27063474, 2.28810407,\n",
       "         2.3055734 ],\n",
       "        [2.32304274, 2.34051207, 2.24224707, ..., 1.94381264, 1.99112542,\n",
       "         2.03843819],\n",
       "        ...,\n",
       "        [2.42345319, 2.45443674, 2.4285357 , ..., 2.20356419, 2.2955617 ,\n",
       "         2.35708076],\n",
       "        [2.37796397, 2.39884717, 2.41973037, ..., 2.43631969, 2.48931298,\n",
       "         2.54230628],\n",
       "        [2.59529957, 2.48117743, 2.44565597, ..., 2.2081992 , 2.14561597,\n",
       "         2.19529257]]))"
      ]
     },
     "execution_count": 51,
     "metadata": {},
     "output_type": "execute_result"
    }
   ],
   "source": [
    "seq = df.to_numpy()\n",
    "n_steps_in = 90\n",
    "n_steps_out = 30\n",
    "#WINDOW (HOW MANY TO SHIFT)\n",
    "window = 30\n",
    "\n",
    "# Creating a list for both variables\n",
    "X, y = [], []\n",
    "\n",
    "for i in range(0, len(seq), window):\n",
    "    # Finding the end of the current sequence\n",
    "    end = i + n_steps_in\n",
    "    #The end of period to predict\n",
    "    out_end = end + n_steps_out\n",
    "    \n",
    "    # Breaking out of the loop if we have exceeded the dataset's length\n",
    "    if out_end > len(seq):\n",
    "        break\n",
    "\n",
    "    # Splitting the sequences into: x = past prices and indicators, y = prices ahead\n",
    "    seq_x, seq_y = seq[i:end, :], seq[end:out_end, 0]\n",
    "    #print(seq_x)\n",
    "    #print(seq_y)\n",
    "\n",
    "    X.append(seq_x)\n",
    "    y.append(seq_y)\n",
    "\n",
    "np.array(X), np.array(y)"
   ]
  },
  {
   "cell_type": "code",
   "execution_count": 19,
   "metadata": {},
   "outputs": [
    {
     "data": {
      "text/plain": [
       "1"
      ]
     },
     "execution_count": 19,
     "metadata": {},
     "output_type": "execute_result"
    }
   ],
   "source": [
    "df.shape[1]"
   ]
  },
  {
   "cell_type": "code",
   "execution_count": 29,
   "metadata": {},
   "outputs": [
    {
     "data": {
      "text/plain": [
       "array([[5.40596401],\n",
       "       [9.38596922],\n",
       "       [7.90158296],\n",
       "       ...,\n",
       "       [2.30494534],\n",
       "       [2.29442506],\n",
       "       [2.38877819]])"
      ]
     },
     "execution_count": 29,
     "metadata": {},
     "output_type": "execute_result"
    }
   ],
   "source": [
    "df.to_numpy()"
   ]
  },
  {
   "cell_type": "markdown",
   "metadata": {},
   "source": [
    "## Splitting the data"
   ]
  },
  {
   "cell_type": "code",
   "execution_count": 66,
   "metadata": {},
   "outputs": [],
   "source": [
    "#TODO\n",
    "#random_state = 7 #(zawsze ta sama, stała wartość)\n",
    "#Przy normalizacji danych - zapamiętuj std i mean"
   ]
  },
  {
   "cell_type": "code",
   "execution_count": 64,
   "metadata": {},
   "outputs": [],
   "source": [
    "#HOW MANY PERIODS TO LOOK BACK TO LEARN\n",
    "n_in = 90\n",
    "\n",
    "#HOW MANY PERIODS TO PREDICT\n",
    "n_out = 30\n",
    "\n",
    "#WINDOW (HOW MANY TO SHIFT)\n",
    "window = 30\n",
    "\n",
    "#NUMBER OF FEATURES\n",
    "n_features = df.shape[1]\n",
    "\n",
    "#SPLIT DATA INTO X and y\n",
    "X, y = split_sequence(df.to_numpy(), n_in, n_out, window)"
   ]
  },
  {
   "cell_type": "markdown",
   "metadata": {},
   "source": [
    "## Neural Network Modelling"
   ]
  },
  {
   "cell_type": "code",
   "execution_count": 75,
   "metadata": {},
   "outputs": [
    {
     "name": "stdout",
     "output_type": "stream",
     "text": [
      "Model: \"sequential_8\"\n",
      "_________________________________________________________________\n",
      "Layer (type)                 Output Shape              Param #   \n",
      "=================================================================\n",
      "lstm_6 (LSTM)                (None, 90, 60)            14880     \n",
      "_________________________________________________________________\n",
      "lstm_7 (LSTM)                (None, 30)                10920     \n",
      "_________________________________________________________________\n",
      "dense_3 (Dense)              (None, 30)                930       \n",
      "=================================================================\n",
      "Total params: 26,730\n",
      "Trainable params: 26,730\n",
      "Non-trainable params: 0\n",
      "_________________________________________________________________\n"
     ]
    }
   ],
   "source": [
    "model = Sequential() #initialize the model\n",
    "#'tanh' is probably not good activation function\n",
    "activ_func = 'softsign' #later: CHANGE to 'softsign' (DON'T MIX WITH 'softmax')\n",
    "\n",
    "#input layer\n",
    "model.add(LSTM(60, \n",
    "               activation=activ_func, \n",
    "               return_sequences=True, \n",
    "               input_shape=(n_in, n_features)))\n",
    "#hidden layer\n",
    "model.add(LSTM(30,\n",
    "              activation=activ_func))\n",
    "#output layer\n",
    "model.add(Dense(n_out))\n",
    "\n",
    "model.summary()"
   ]
  },
  {
   "cell_type": "code",
   "execution_count": 76,
   "metadata": {},
   "outputs": [],
   "source": [
    "#optimizer='adam' can be also tried. RMSProp, AdaGrad or momentum(Nesterovs) are suggested\n",
    "model.compile(optimizer='adagrad', loss='mse', metrics=['accuracy']) "
   ]
  },
  {
   "cell_type": "code",
   "execution_count": 86,
   "metadata": {},
   "outputs": [
    {
     "name": "stdout",
     "output_type": "stream",
     "text": [
      "Train on 136 samples, validate on 16 samples\n",
      "Epoch 1/10\n",
      "136/136 [==============================] - 1s 5ms/step - loss: 0.0440 - accuracy: 0.0368 - val_loss: 0.1697 - val_accuracy: 0.0000e+00\n",
      "Epoch 2/10\n",
      "136/136 [==============================] - 1s 5ms/step - loss: 0.0443 - accuracy: 0.0368 - val_loss: 0.1632 - val_accuracy: 0.0000e+00\n",
      "Epoch 3/10\n",
      "136/136 [==============================] - 1s 5ms/step - loss: 0.0432 - accuracy: 0.0368 - val_loss: 0.1613 - val_accuracy: 0.0000e+00\n",
      "Epoch 4/10\n",
      "136/136 [==============================] - 1s 5ms/step - loss: 0.0429 - accuracy: 0.0294 - val_loss: 0.1538 - val_accuracy: 0.0000e+00\n",
      "Epoch 5/10\n",
      "136/136 [==============================] - 1s 5ms/step - loss: 0.0426 - accuracy: 0.0294 - val_loss: 0.1392 - val_accuracy: 0.0000e+00\n",
      "Epoch 6/10\n",
      "136/136 [==============================] - 1s 5ms/step - loss: 0.0437 - accuracy: 0.0221 - val_loss: 0.1512 - val_accuracy: 0.0000e+00\n",
      "Epoch 7/10\n",
      "136/136 [==============================] - 1s 5ms/step - loss: 0.0421 - accuracy: 0.0221 - val_loss: 0.1593 - val_accuracy: 0.0000e+00\n",
      "Epoch 8/10\n",
      "136/136 [==============================] - 1s 5ms/step - loss: 0.0424 - accuracy: 0.0221 - val_loss: 0.1398 - val_accuracy: 0.0000e+00\n",
      "Epoch 9/10\n",
      "136/136 [==============================] - 1s 5ms/step - loss: 0.0430 - accuracy: 0.0221 - val_loss: 0.1520 - val_accuracy: 0.0000e+00\n",
      "Epoch 10/10\n",
      "136/136 [==============================] - 1s 5ms/step - loss: 0.0422 - accuracy: 0.0221 - val_loss: 0.1616 - val_accuracy: 0.0000e+00\n"
     ]
    }
   ],
   "source": [
    "results = model.fit(X, y, epochs=10, batch_size = 32, validation_split=0.1)"
   ]
  },
  {
   "cell_type": "code",
   "execution_count": 87,
   "metadata": {},
   "outputs": [
    {
     "data": {
      "image/png": "[encoded data removed]",
      "text/plain": [
       "<Figure size 1152x360 with 1 Axes>"
      ]
     },
     "metadata": {
      "needs_background": "light"
     },
     "output_type": "display_data"
    },
    {
     "data": {
      "image/png": "[encoded data removed]",
      "text/plain": [
       "<Figure size 1152x360 with 1 Axes>"
      ]
     },
     "metadata": {
      "needs_background": "light"
     },
     "output_type": "display_data"
    }
   ],
   "source": [
    "visualize_training_results(results)"
   ]
  },
  {
   "cell_type": "markdown",
   "metadata": {},
   "source": [
    "## Model validation"
   ]
  },
  {
   "cell_type": "code",
   "execution_count": 88,
   "metadata": {},
   "outputs": [
    {
     "data": {
      "text/plain": [
       "timestamp\n",
       "2008-10-27    5.405964\n",
       "2008-10-28    9.385969\n",
       "2008-10-29    7.901583\n",
       "2008-10-30    7.908862\n",
       "2008-10-31    7.916141\n",
       "                ...   \n",
       "2021-07-25    2.268518\n",
       "2021-07-26    2.275313\n",
       "2021-07-27    2.304945\n",
       "2021-07-28    2.294425\n",
       "2021-07-29    2.388778\n",
       "Name: price, Length: 4659, dtype: float64"
      ]
     },
     "execution_count": 88,
     "metadata": {},
     "output_type": "execute_result"
    }
   ],
   "source": [
    "df.price"
   ]
  },
  {
   "cell_type": "code",
   "execution_count": 96,
   "metadata": {},
   "outputs": [],
   "source": [
    "actual = pd.DataFrame(close_scaler.inverse_transform(df[[\"price\"]]), index=df.index, columns=[df.columns[0]])"
   ]
  },
  {
   "cell_type": "code",
   "execution_count": 104,
   "metadata": {},
   "outputs": [],
   "source": [
    "predictions = validater(n_in, n_out)"
   ]
  },
  {
   "cell_type": "code",
   "execution_count": 110,
   "metadata": {},
   "outputs": [
    {
     "name": "stdout",
     "output_type": "stream",
     "text": [
      "MSE: diff    0.068046\n",
      "dtype: float64\n"
     ]
    },
    {
     "data": {
      "image/png": "[encoded data removed]",
      "text/plain": [
       "<Figure size 1152x432 with 1 Axes>"
      ]
     },
     "metadata": {
      "needs_background": "light"
     },
     "output_type": "display_data"
    }
   ],
   "source": [
    "print('MSE:', val_mse(actual, predictions))\n",
    "\n",
    "plt.figure(figsize=(16,6))\n",
    "plt.plot(predictions, label='Predicted')\n",
    "# Plotting the actual values\n",
    "plt.plot(actual, label='Actual')\n",
    "plt.title(f\"Predicted vs Actual Closing Prices\")\n",
    "plt.ylabel(\"Price\")\n",
    "plt.legend()\n",
    "#plt.xlim('2018-05', '2020-05')\n",
    "plt.show()"
   ]
  },
  {
   "cell_type": "markdown",
   "metadata": {},
   "source": [
    "## Forecast the future"
   ]
  },
  {
   "cell_type": "code",
   "execution_count": 113,
   "metadata": {},
   "outputs": [
    {
     "name": "stdout",
     "output_type": "stream",
     "text": [
      "               price\n",
      "2021-07-30  2.315512\n",
      "2021-07-31  2.194742\n",
      "2021-08-01  2.253883\n",
      "2021-08-02  2.287284\n",
      "2021-08-03  2.181378\n",
      "2021-08-04  2.189598\n",
      "2021-08-05  2.305377\n",
      "2021-08-06  2.246824\n",
      "2021-08-07  2.314730\n",
      "2021-08-08  2.255015\n",
      "2021-08-09  2.297852\n",
      "2021-08-10  2.334957\n",
      "2021-08-11  2.268214\n",
      "2021-08-12  2.357438\n",
      "2021-08-13  2.238517\n",
      "2021-08-14  2.235521\n",
      "2021-08-15  2.275912\n",
      "2021-08-16  2.234513\n",
      "2021-08-17  2.202140\n",
      "2021-08-18  2.193177\n",
      "2021-08-19  2.174100\n",
      "2021-08-20  2.098415\n",
      "2021-08-21  2.175615\n",
      "2021-08-22  2.063834\n",
      "2021-08-23  2.026050\n",
      "2021-08-24  2.001006\n",
      "2021-08-25  2.002410\n",
      "2021-08-26  1.926761\n",
      "2021-08-27  2.003813\n",
      "2021-08-28  1.968706\n"
     ]
    },
    {
     "data": {
      "image/png": "[encoded data removed]",
      "text/plain": [
       "<Figure size 1152x432 with 1 Axes>"
      ]
     },
     "metadata": {
      "needs_background": "light"
     },
     "output_type": "display_data"
    }
   ],
   "source": [
    "# Predicting off of the most recent days from the original DF\n",
    "yhat = model.predict(np.array(df.tail(n_in)).reshape(1, n_in, n_features))\n",
    "\n",
    "# Transforming the predicted values back to their original format\n",
    "yhat = close_scaler.inverse_transform(yhat)[0]\n",
    "\n",
    "# Creating a DF of the predicted prices\n",
    "preds = pd.DataFrame(yhat, \n",
    "                     index=pd.date_range(start=df.index[-1]+timedelta(days=1), #days=30?\n",
    "                                         periods=len(yhat), \n",
    "                                         freq=\"D\"), \n",
    "                     columns=[df.columns[0]])\n",
    "\n",
    "# Number of periods back to plot the actual values\n",
    "pers = n_in\n",
    "\n",
    "# Transforming the actual values to their original price\n",
    "actual = pd.DataFrame(close_scaler.inverse_transform(df[[\"price\"]].tail(pers)), \n",
    "                      index=df.price.tail(pers).index, \n",
    "                      columns=[df.columns[0]]).append(preds.head(1))\n",
    "\n",
    "# Printing the predicted prices\n",
    "print(preds)\n",
    "\n",
    "# Plotting\n",
    "plt.figure(figsize=(16,6))\n",
    "plt.plot(actual, label=\"Actual Prices\")\n",
    "plt.plot(preds, label=\"Predicted Prices\")\n",
    "plt.ylabel(\"Price\")\n",
    "plt.xlabel(\"Dates\")\n",
    "plt.title(f\"Forecasting the next {len(yhat)} days\")\n",
    "plt.legend()\n",
    "plt.show()"
   ]
  }
 ],
 "metadata": {
  "kernelspec": {
   "display_name": "Python 3 (ipykernel)",
   "language": "python",
   "name": "python3"
  },
  "language_info": {
   "codemirror_mode": {
    "name": "ipython",
    "version": 3
   },
   "file_extension": ".py",
   "mimetype": "text/x-python",
   "name": "python",
   "nbconvert_exporter": "python",
   "pygments_lexer": "ipython3",
   "version": "3.9.13"
  }
 },
 "nbformat": 4,
 "nbformat_minor": 4
}
